{
 "cells": [
  {
   "cell_type": "markdown",
   "metadata": {},
   "source": [
    "<img style=\"float: left; margin: 30px 15px 15px 15px;\" src=\"https://pngimage.net/wp-content/uploads/2018/06/logo-iteso-png-5.png\" width=\"300\" height=\"500\" /> \n",
    "    \n",
    "    \n",
    "### <font color='navy'> Simulación de procesos financieros. \n",
    "\n",
    "**Nombres:** Alexia Marisol Díaz Verduzco & Frida María Hernández López\n",
    "\n",
    "**Fecha:** 23 de noviembre del 2021.\n",
    "\n",
    "**Expediente** : if720500 & if720476\n",
    "    \n",
    "**Profesor:** Oscar David Jaramillo Zuluaga.\n",
    "    \n",
    "**Link Github**: https://github.com/FridaHernandezL/ProyectoConjunto_Modulo2\n",
    "\n",
    "# Proyecto TEMA-2"
   ]
  },
  {
   "cell_type": "markdown",
   "metadata": {},
   "source": [
    "### 1.1 Simulación aplicada a clientes con tarjeta de crédito.\n",
    "\n",
    "### 1.2 Objetivos.\n",
    "> #### 1.2.1 Objetivo general.\n",
    ">  - Presentar a la institución bancaria información valiosa y rentable para la toma de decisiones.\n",
    "\n",
    "\n",
    "> #### 1.2.2 Objetivos específicos.\n",
    ">  - Evaluar y simular el límite de crédito promedio para los clientes.  \n",
    ">  - Determinar por medio de simulaciones el rango de edad al que conviene ofrecer futuras tarjetas de crédito.\n",
    ">  - Proyectar el número de transacciones medio en un año dentro de la institución bancaria. \n",
    ">  - Analizar la conducta de los clientes en base al tiempo activo dentro de la institución. \n",
    "\n",
    "### 1.3 Definición del problema.\n",
    "\n",
    "> Una tarjeta de crédito es un documento de material plástico o metal emitido por un banco o institución especializada a nombre de una persona, que podrá utilizarla para efectuar compras sin tener que pagar en efectivo y pudiendo, además, llevar el pago de los productos a períodos futuros, el usuario debe asumir la obligación de devolver el importe dispuesto y de pagar los intereses, comisiones bancarias y gastos.\n",
    "\n",
    "> En muchos países sobretodo subdesarrollados el uso de tarjetas de crédito es un tema poco conocido así como también es común la desconfianza a las mismas. Sin embargo, por el rumbo profesional que ambas llevamos consideramos este tema como algo muy importante e interesante.  \n",
    "\n",
    "> Entre los fénomenos financieros que se presentaron durante la pandemia como sociedad, predomina un deceso importante en las líneas de crédito; con este análisis queremos brindar a la institución en cuestión una visión más organizada sobre algunos de los aspectos de los clientes, para así ayudar a la toma de decisiones dentro de la financiera brindando una perspectiva más amplia, que optimicen las ventas e ingresos en el banco.\n",
    "\n",
    "### 1.4 Nodos y variables que se decidieron simular y porqué\n",
    "\n",
    "> Los nodos que decidimos simular son:\n",
    "\n",
    "\n",
    ">  -  Límite de crédito \n",
    ">  -  Edad del cliente \n",
    ">  -  Numero de transacciones al año\n",
    ">  -  Tiempo activo"
   ]
  },
  {
   "cell_type": "markdown",
   "metadata": {},
   "source": [
    "Conocer el **límite de crédito** promedio nos ayudará a visualizar como opera la institución financiera de forma interna, es decir, que cantidades promedio está autorizada a otorgar.  \n",
    "\n",
    "El objetivo de proyectar el **número de transacciones al año** promedio de un banco ayudará a comprender el estado de la institución y el flujo de dinero que tenga la misma, así como ayudará a conocer más certeramente la liquidez con la que cuenta anualmente.\n",
    "\n",
    "La finalidad de conocer el rango de **edad** más frecuente, nos ayuda a visualizar posibles clientes de la institución que aun no cuentan con tarjeta de crédito y son candidatos a obtener una.  \n",
    "\n",
    "Al analizar el **tiempo activo** de los clientes nos brindará información del comportamiento de los mismos, en otras palabras identificaremos en un futuro cuantos clientes activos tendrá la institución para que el banco tome decisiones respecto a su administración(valuación del riesgo). "
   ]
  },
  {
   "cell_type": "markdown",
   "metadata": {},
   "source": [
    "### Diagrama de flujo "
   ]
  },
  {
   "cell_type": "code",
   "execution_count": 1,
   "metadata": {},
   "outputs": [],
   "source": [
    "from IPython.display import Image\n",
    "Image(\"Diagrama_Proyecto.PNG\")"
   ]
  },
  {
   "cell_type": "markdown",
   "metadata": {},
   "source": [
    "### 1.5 Definición de hipótesis y supuestos"
   ]
  },
  {
   "cell_type": "markdown",
   "metadata": {},
   "source": [
    "> Supuestos Constantes \n",
    ">   -  El dólar estadounidense es la moneda base para el límite de crédito. \n",
    ">   -  La institución bancaria solamente cuenta con 4 tipos de tarjeta.\n",
    ">   -  Toda la información presentada es real. \n",
    ">   -  El Banco cobra una tasa TIIE+1% a todos sus clientes\n",
    ">   -  El 60% de los clientes paga intereses\n",
    ">   -  Las 4 variales a utilizar son las más relevantes para presentar a la institución.\n",
    "\n",
    "> Hipótesis\n",
    ">   -  Un 60% de los clientes cuentan con un límite de crédito igual o inferior al promedio.\n",
    ">   -  Los clientes realizan en promedio entre 120  y 150 transacciones al año.\n",
    ">   -  El rango de edad más común de los clientes se centra en personas en la etapa de la vida laborable o productiva.\n",
    ">   -  Los clientes no perduran con su tarjeta de crédito más de 3 años. "
   ]
  },
  {
   "cell_type": "markdown",
   "metadata": {},
   "source": [
    "### 1.6 Obtención de la base de datos"
   ]
  },
  {
   "cell_type": "markdown",
   "metadata": {},
   "source": [
    "### Librerías "
   ]
  },
  {
   "cell_type": "code",
   "execution_count": 2,
   "metadata": {},
   "outputs": [],
   "source": [
    "import numpy as np\n",
    "from sklearn.neighbors import KernelDensity\n",
    "from scipy.stats import gaussian_kde\n",
    "from statsmodels.nonparametric.kde import KDEUnivariate\n",
    "from statsmodels.nonparametric.kernel_density import KDEMultivariate\n",
    "%matplotlib inline\n",
    "import matplotlib.pyplot as plt\n",
    "from scipy import optimize\n",
    "import scipy.stats as st     \n",
    "import statsmodels.api as sm \n",
    "import seaborn as sns\n",
    "import pandas as pd\n",
    "from scipy.stats import kstest\n",
    "import warnings\n",
    "warnings.filterwarnings('ignore')"
   ]
  },
  {
   "cell_type": "markdown",
   "metadata": {},
   "source": [
    "### Base de datos normal "
   ]
  },
  {
   "cell_type": "markdown",
   "metadata": {},
   "source": [
    "aquí se explica de donde se obtuvo la base de datos\n",
    "https://www.kaggle.com/sakshigoyal7/credit-card-customers"
   ]
  },
  {
   "cell_type": "code",
   "execution_count": 7,
   "metadata": {},
   "outputs": [
    {
     "data": {
      "text/html": [
       "<div>\n",
       "<style scoped>\n",
       "    .dataframe tbody tr th:only-of-type {\n",
       "        vertical-align: middle;\n",
       "    }\n",
       "\n",
       "    .dataframe tbody tr th {\n",
       "        vertical-align: top;\n",
       "    }\n",
       "\n",
       "    .dataframe thead th {\n",
       "        text-align: right;\n",
       "    }\n",
       "</style>\n",
       "<table border=\"1\" class=\"dataframe\">\n",
       "  <thead>\n",
       "    <tr style=\"text-align: right;\">\n",
       "      <th></th>\n",
       "      <th>Cuenta</th>\n",
       "      <th>Edad</th>\n",
       "      <th>Genero</th>\n",
       "      <th>Dependientes</th>\n",
       "      <th>Nivel_educativo</th>\n",
       "      <th>Estado_civil</th>\n",
       "      <th>Ingresos</th>\n",
       "      <th>Categoria_tarjeta</th>\n",
       "      <th>Meses_cuenta</th>\n",
       "      <th>Recuento_relaciones_total</th>\n",
       "      <th>...</th>\n",
       "      <th>Limite_credito</th>\n",
       "      <th>Total_Revolving_Bal</th>\n",
       "      <th>Avg_Open_To_Buy</th>\n",
       "      <th>Total_Amt_Chng_Q4_Q1</th>\n",
       "      <th>Total_Trans_Amt</th>\n",
       "      <th>Total_Trans_Ct</th>\n",
       "      <th>Total_Ct_Chng_Q4_Q1</th>\n",
       "      <th>Avg_Utilization_Ratio</th>\n",
       "      <th>Naive_Bayes_Classifier_Attrition_Flag_Card_Category_Contacts_Count_12_mon_Dependent_count_Education_Level_Months_Inactive_12_mon_1</th>\n",
       "      <th>Naive_Bayes_Classifier_Attrition_Flag_Card_Category_Contacts_Count_12_mon_Dependent_count_Education_Level_Months_Inactive_12_mon_2</th>\n",
       "    </tr>\n",
       "    <tr>\n",
       "      <th>ID_cliente</th>\n",
       "      <th></th>\n",
       "      <th></th>\n",
       "      <th></th>\n",
       "      <th></th>\n",
       "      <th></th>\n",
       "      <th></th>\n",
       "      <th></th>\n",
       "      <th></th>\n",
       "      <th></th>\n",
       "      <th></th>\n",
       "      <th></th>\n",
       "      <th></th>\n",
       "      <th></th>\n",
       "      <th></th>\n",
       "      <th></th>\n",
       "      <th></th>\n",
       "      <th></th>\n",
       "      <th></th>\n",
       "      <th></th>\n",
       "      <th></th>\n",
       "      <th></th>\n",
       "    </tr>\n",
       "  </thead>\n",
       "  <tbody>\n",
       "    <tr>\n",
       "      <th>768805383</th>\n",
       "      <td>Existing Customer</td>\n",
       "      <td>45</td>\n",
       "      <td>M</td>\n",
       "      <td>3</td>\n",
       "      <td>High School</td>\n",
       "      <td>Married</td>\n",
       "      <td>$60K - $80K</td>\n",
       "      <td>Blue</td>\n",
       "      <td>39</td>\n",
       "      <td>5</td>\n",
       "      <td>...</td>\n",
       "      <td>12691.0</td>\n",
       "      <td>777</td>\n",
       "      <td>11914.0</td>\n",
       "      <td>1.335</td>\n",
       "      <td>1144</td>\n",
       "      <td>42</td>\n",
       "      <td>1.625</td>\n",
       "      <td>0.061</td>\n",
       "      <td>0.000093</td>\n",
       "      <td>0.99991</td>\n",
       "    </tr>\n",
       "    <tr>\n",
       "      <th>818770008</th>\n",
       "      <td>Existing Customer</td>\n",
       "      <td>49</td>\n",
       "      <td>F</td>\n",
       "      <td>5</td>\n",
       "      <td>Graduate</td>\n",
       "      <td>Single</td>\n",
       "      <td>Less than $40K</td>\n",
       "      <td>Blue</td>\n",
       "      <td>44</td>\n",
       "      <td>6</td>\n",
       "      <td>...</td>\n",
       "      <td>8256.0</td>\n",
       "      <td>864</td>\n",
       "      <td>7392.0</td>\n",
       "      <td>1.541</td>\n",
       "      <td>1291</td>\n",
       "      <td>33</td>\n",
       "      <td>3.714</td>\n",
       "      <td>0.105</td>\n",
       "      <td>0.000057</td>\n",
       "      <td>0.99994</td>\n",
       "    </tr>\n",
       "    <tr>\n",
       "      <th>713982108</th>\n",
       "      <td>Existing Customer</td>\n",
       "      <td>51</td>\n",
       "      <td>M</td>\n",
       "      <td>3</td>\n",
       "      <td>Graduate</td>\n",
       "      <td>Married</td>\n",
       "      <td>$80K - $120K</td>\n",
       "      <td>Blue</td>\n",
       "      <td>36</td>\n",
       "      <td>4</td>\n",
       "      <td>...</td>\n",
       "      <td>3418.0</td>\n",
       "      <td>0</td>\n",
       "      <td>3418.0</td>\n",
       "      <td>2.594</td>\n",
       "      <td>1887</td>\n",
       "      <td>20</td>\n",
       "      <td>2.333</td>\n",
       "      <td>0.000</td>\n",
       "      <td>0.000021</td>\n",
       "      <td>0.99998</td>\n",
       "    </tr>\n",
       "    <tr>\n",
       "      <th>769911858</th>\n",
       "      <td>Existing Customer</td>\n",
       "      <td>40</td>\n",
       "      <td>F</td>\n",
       "      <td>4</td>\n",
       "      <td>High School</td>\n",
       "      <td>Unknown</td>\n",
       "      <td>Less than $40K</td>\n",
       "      <td>Blue</td>\n",
       "      <td>34</td>\n",
       "      <td>3</td>\n",
       "      <td>...</td>\n",
       "      <td>3313.0</td>\n",
       "      <td>2517</td>\n",
       "      <td>796.0</td>\n",
       "      <td>1.405</td>\n",
       "      <td>1171</td>\n",
       "      <td>20</td>\n",
       "      <td>2.333</td>\n",
       "      <td>0.760</td>\n",
       "      <td>0.000134</td>\n",
       "      <td>0.99987</td>\n",
       "    </tr>\n",
       "    <tr>\n",
       "      <th>709106358</th>\n",
       "      <td>Existing Customer</td>\n",
       "      <td>40</td>\n",
       "      <td>M</td>\n",
       "      <td>3</td>\n",
       "      <td>Uneducated</td>\n",
       "      <td>Married</td>\n",
       "      <td>$60K - $80K</td>\n",
       "      <td>Blue</td>\n",
       "      <td>21</td>\n",
       "      <td>5</td>\n",
       "      <td>...</td>\n",
       "      <td>4716.0</td>\n",
       "      <td>0</td>\n",
       "      <td>4716.0</td>\n",
       "      <td>2.175</td>\n",
       "      <td>816</td>\n",
       "      <td>28</td>\n",
       "      <td>2.500</td>\n",
       "      <td>0.000</td>\n",
       "      <td>0.000022</td>\n",
       "      <td>0.99998</td>\n",
       "    </tr>\n",
       "  </tbody>\n",
       "</table>\n",
       "<p>5 rows × 22 columns</p>\n",
       "</div>"
      ],
      "text/plain": [
       "                       Cuenta  Edad Genero  Dependientes Nivel_educativo  \\\n",
       "ID_cliente                                                                 \n",
       "768805383   Existing Customer    45      M             3     High School   \n",
       "818770008   Existing Customer    49      F             5        Graduate   \n",
       "713982108   Existing Customer    51      M             3        Graduate   \n",
       "769911858   Existing Customer    40      F             4     High School   \n",
       "709106358   Existing Customer    40      M             3      Uneducated   \n",
       "\n",
       "           Estado_civil        Ingresos Categoria_tarjeta  Meses_cuenta  \\\n",
       "ID_cliente                                                                \n",
       "768805383       Married     $60K - $80K              Blue            39   \n",
       "818770008        Single  Less than $40K              Blue            44   \n",
       "713982108       Married    $80K - $120K              Blue            36   \n",
       "769911858       Unknown  Less than $40K              Blue            34   \n",
       "709106358       Married     $60K - $80K              Blue            21   \n",
       "\n",
       "            Recuento_relaciones_total  ...  Limite_credito  \\\n",
       "ID_cliente                             ...                   \n",
       "768805383                           5  ...         12691.0   \n",
       "818770008                           6  ...          8256.0   \n",
       "713982108                           4  ...          3418.0   \n",
       "769911858                           3  ...          3313.0   \n",
       "709106358                           5  ...          4716.0   \n",
       "\n",
       "            Total_Revolving_Bal  Avg_Open_To_Buy  Total_Amt_Chng_Q4_Q1  \\\n",
       "ID_cliente                                                               \n",
       "768805383                   777          11914.0                 1.335   \n",
       "818770008                   864           7392.0                 1.541   \n",
       "713982108                     0           3418.0                 2.594   \n",
       "769911858                  2517            796.0                 1.405   \n",
       "709106358                     0           4716.0                 2.175   \n",
       "\n",
       "            Total_Trans_Amt  Total_Trans_Ct  Total_Ct_Chng_Q4_Q1  \\\n",
       "ID_cliente                                                         \n",
       "768805383              1144              42                1.625   \n",
       "818770008              1291              33                3.714   \n",
       "713982108              1887              20                2.333   \n",
       "769911858              1171              20                2.333   \n",
       "709106358               816              28                2.500   \n",
       "\n",
       "            Avg_Utilization_Ratio  \\\n",
       "ID_cliente                          \n",
       "768805383                   0.061   \n",
       "818770008                   0.105   \n",
       "713982108                   0.000   \n",
       "769911858                   0.760   \n",
       "709106358                   0.000   \n",
       "\n",
       "            Naive_Bayes_Classifier_Attrition_Flag_Card_Category_Contacts_Count_12_mon_Dependent_count_Education_Level_Months_Inactive_12_mon_1  \\\n",
       "ID_cliente                                                                                                                                       \n",
       "768805383                                            0.000093                                                                                    \n",
       "818770008                                            0.000057                                                                                    \n",
       "713982108                                            0.000021                                                                                    \n",
       "769911858                                            0.000134                                                                                    \n",
       "709106358                                            0.000022                                                                                    \n",
       "\n",
       "            Naive_Bayes_Classifier_Attrition_Flag_Card_Category_Contacts_Count_12_mon_Dependent_count_Education_Level_Months_Inactive_12_mon_2  \n",
       "ID_cliente                                                                                                                                      \n",
       "768805383                                             0.99991                                                                                   \n",
       "818770008                                             0.99994                                                                                   \n",
       "713982108                                             0.99998                                                                                   \n",
       "769911858                                             0.99987                                                                                   \n",
       "709106358                                             0.99998                                                                                   \n",
       "\n",
       "[5 rows x 22 columns]"
      ]
     },
     "execution_count": 7,
     "metadata": {},
     "output_type": "execute_result"
    }
   ],
   "source": [
    "data= pd.read_csv(\"BankChurners.csv\")\n",
    "data= data.set_index('ID_cliente')\n",
    "data.head()"
   ]
  },
  {
   "cell_type": "markdown",
   "metadata": {},
   "source": [
    "### Base de datos a utilizar (limpia)"
   ]
  },
  {
   "cell_type": "code",
   "execution_count": 8,
   "metadata": {},
   "outputs": [
    {
     "data": {
      "text/html": [
       "<div>\n",
       "<style scoped>\n",
       "    .dataframe tbody tr th:only-of-type {\n",
       "        vertical-align: middle;\n",
       "    }\n",
       "\n",
       "    .dataframe tbody tr th {\n",
       "        vertical-align: top;\n",
       "    }\n",
       "\n",
       "    .dataframe thead th {\n",
       "        text-align: right;\n",
       "    }\n",
       "</style>\n",
       "<table border=\"1\" class=\"dataframe\">\n",
       "  <thead>\n",
       "    <tr style=\"text-align: right;\">\n",
       "      <th></th>\n",
       "      <th>Limite_credito</th>\n",
       "      <th>Total_Trans_Ct</th>\n",
       "      <th>Edad</th>\n",
       "      <th>Meses_cuenta</th>\n",
       "    </tr>\n",
       "    <tr>\n",
       "      <th>ID_cliente</th>\n",
       "      <th></th>\n",
       "      <th></th>\n",
       "      <th></th>\n",
       "      <th></th>\n",
       "    </tr>\n",
       "  </thead>\n",
       "  <tbody>\n",
       "    <tr>\n",
       "      <th>768805383</th>\n",
       "      <td>12691.0</td>\n",
       "      <td>42</td>\n",
       "      <td>45</td>\n",
       "      <td>39</td>\n",
       "    </tr>\n",
       "    <tr>\n",
       "      <th>818770008</th>\n",
       "      <td>8256.0</td>\n",
       "      <td>33</td>\n",
       "      <td>49</td>\n",
       "      <td>44</td>\n",
       "    </tr>\n",
       "    <tr>\n",
       "      <th>713982108</th>\n",
       "      <td>3418.0</td>\n",
       "      <td>20</td>\n",
       "      <td>51</td>\n",
       "      <td>36</td>\n",
       "    </tr>\n",
       "    <tr>\n",
       "      <th>769911858</th>\n",
       "      <td>3313.0</td>\n",
       "      <td>20</td>\n",
       "      <td>40</td>\n",
       "      <td>34</td>\n",
       "    </tr>\n",
       "    <tr>\n",
       "      <th>709106358</th>\n",
       "      <td>4716.0</td>\n",
       "      <td>28</td>\n",
       "      <td>40</td>\n",
       "      <td>21</td>\n",
       "    </tr>\n",
       "  </tbody>\n",
       "</table>\n",
       "</div>"
      ],
      "text/plain": [
       "            Limite_credito  Total_Trans_Ct  Edad  Meses_cuenta\n",
       "ID_cliente                                                    \n",
       "768805383          12691.0              42    45            39\n",
       "818770008           8256.0              33    49            44\n",
       "713982108           3418.0              20    51            36\n",
       "769911858           3313.0              20    40            34\n",
       "709106358           4716.0              28    40            21"
      ]
     },
     "execution_count": 8,
     "metadata": {},
     "output_type": "execute_result"
    }
   ],
   "source": [
    "data = data[['Limite_credito','Total_Trans_Ct','Edad','Meses_cuenta']]\n",
    "data.head()"
   ]
  },
  {
   "cell_type": "markdown",
   "metadata": {},
   "source": [
    "### 1.7 Simulación nodos"
   ]
  },
  {
   "cell_type": "markdown",
   "metadata": {},
   "source": [
    "#### Funciones a utilizar en los 4 nodos"
   ]
  },
  {
   "cell_type": "code",
   "execution_count": 9,
   "metadata": {},
   "outputs": [],
   "source": [
    "# Dependiendo del ajuste de parámetro, se define bandwidth\n",
    "# Nodo 1\n",
    "def kde_scipy_1(x,bandwidth=13.96, **kwargs):\n",
    "    \"\"\"Kernel Density Estimation with Scipy\"\"\"\n",
    "    kde = gaussian_kde(x, bw_method=bandwidth / x.std(ddof=1), **kwargs)\n",
    "    return lambda x_grid: kde.evaluate(x_grid)\n",
    "\n",
    "# Nodo 2\n",
    "def kde_scipy_2(x,bandwidth=1.3, **kwargs):\n",
    "    \"\"\"Kernel Density Estimation with Scipy\"\"\"\n",
    "    kde = gaussian_kde(x, bw_method=bandwidth / x.std(ddof=1), **kwargs)\n",
    "    return lambda x_grid: kde.evaluate(x_grid)\n",
    "# Nodo 3\n",
    "def kde_scipy_3(x,bandwidth=4.41, **kwargs):\n",
    "    \"\"\"Kernel Density Estimation with Scipy\"\"\"\n",
    "    kde = gaussian_kde(x, bw_method=bandwidth / x.std(ddof=1), **kwargs)\n",
    "    return lambda x_grid: kde.evaluate(x_grid)\n",
    "# Nodo 4\n",
    "def kde_scipy_4(x,bandwidth=1, **kwargs):\n",
    "    \"\"\"Kernel Density Estimation with Scipy\"\"\"\n",
    "    kde = gaussian_kde(x, bw_method=bandwidth / x.std(ddof=1), **kwargs)\n",
    "    return lambda x_grid: kde.evaluate(x_grid)"
   ]
  },
  {
   "cell_type": "code",
   "execution_count": 10,
   "metadata": {},
   "outputs": [],
   "source": [
    "def acep_rechazo(f:'función objetivo a generar',\n",
    "                 max_f:'maximo de la funcion',\n",
    "                 N: 'numero de variables aleatorias distribuidas a generar',\n",
    "                 b: 'Entero máximo del vector x',\n",
    "                 n: 'Salto del vector en R2'):\n",
    "    X = np.zeros(N)\n",
    "    i = 0 \n",
    "    while i < N:\n",
    "        R2 = np.random.uniform(0,max_f) \n",
    "        R1 = np.random.uniform(0,b,n)\n",
    "\n",
    "        if R2 < f(R1):\n",
    "            X[i] = R1\n",
    "            i+=1\n",
    "    return X"
   ]
  },
  {
   "cell_type": "code",
   "execution_count": 11,
   "metadata": {},
   "outputs": [],
   "source": [
    "def muestreo_est(B: 'Número de estratos'):\n",
    "    u= np.random.uniform(B) \n",
    "    i=np.arange(0,B) \n",
    "    v = (u+i)/B \n",
    "    return v \n",
    "\n",
    "\n",
    "def Gen_distr_discreta_(p_acum: 'P.Acumulada de la distribución a generar',\n",
    "                       indices: 'valores reales a generar aleatoriamente',\n",
    "                       N: 'cantidad de números aleatorios a generar'):\n",
    "    \n",
    "    U =np.random.rand(N)\n",
    "    # Diccionario de valores aleatorios\n",
    "    rand2reales = {i: idx for i, idx in enumerate(indices)}\n",
    "\n",
    "    # Series de los valores aletorios\n",
    "    y = pd.Series([sum([1 for p in p_acum if p < ui]) for ui in U]).map(rand2reales)\n",
    "\n",
    "    return y\n",
    "\n",
    "def plot_histogram_discrete(distribucion:'señal de varibles aleatorias de un distribución DISCRETA dada',\n",
    "                            label:'label del legend a aparecer en el gráfica',\n",
    "                            densidad:'por defecto regresa el histograma en densidad'=True):\n",
    "    # len(set(distribucion)) cuenta la cantidad de elementos distintos de la variable 'distribucion'\n",
    "    plt.figure(figsize=[10,4])\n",
    "    y, x = np.histogram(distribucion, bins=len(set(distribucion)), density=densidad) \n",
    "    plt.bar(x[1:], y, label=label)\n",
    "    plt.legend()\n",
    "    plt.show()"
   ]
  },
  {
   "cell_type": "markdown",
   "metadata": {},
   "source": [
    "### NODO 1. Límite de crédito  \n",
    "\n",
    "El primer nodo se caracteriza por el uso de la variable **límite de crédito**, el cual se define como la cantidad máxima que un cliente de la entidad financiera puede disponer al poseer una tarjeta de crédito.  \n",
    "\n",
    "Debido a que el objetivo de un banco es colocar dinero, captado anteriormente del público, a tasas más elevadas; con este nodo se busca simular el promedio de límite de crédito que ayudará a estimar que cantidad de activos tendrá disponible una vez que el cliente salde su deuda, sumada a sus respectivos intereses. "
   ]
  },
  {
   "cell_type": "code",
   "execution_count": 8,
   "metadata": {},
   "outputs": [
    {
     "data": {
      "text/plain": [
       "(array([5211., 1524.,  931.,  589.,  407.,  299.,  252.,  161.,  128.,\n",
       "         625.]),\n",
       " array([ 1438.3 ,  4746.07,  8053.84, 11361.61, 14669.38, 17977.15,\n",
       "        21284.92, 24592.69, 27900.46, 31208.23, 34516.  ]),\n",
       " <a list of 10 Patch objects>)"
      ]
     },
     "execution_count": 8,
     "metadata": {},
     "output_type": "execute_result"
    },
    {
     "data": {
      "image/png": "[encoded data removed]",
      "text/plain": [
       "<Figure size 432x288 with 1 Axes>"
      ]
     },
     "metadata": {
      "needs_background": "light"
     },
     "output_type": "display_data"
    }
   ],
   "source": [
    "#Se graafica la variable con un histograma sencillo para ver su distribucion\n",
    "limite =  data['Limite_credito']\n",
    "plt.hist(limite)"
   ]
  },
  {
   "cell_type": "code",
   "execution_count": 9,
   "metadata": {},
   "outputs": [
    {
     "name": "stdout",
     "output_type": "stream",
     "text": [
      "{'bandwidth': 13.96551724137931}\n"
     ]
    }
   ],
   "source": [
    "from sklearn.model_selection import GridSearchCV\n",
    "grid = GridSearchCV(KernelDensity(),\n",
    "                    {'bandwidth': np.linspace(10,15,30)},\n",
    "                    cv=20) \n",
    "grid.fit(np.array(limite)[:, None])\n",
    "print(grid.best_params_)"
   ]
  },
  {
   "cell_type": "code",
   "execution_count": 10,
   "metadata": {},
   "outputs": [
    {
     "data": {
      "text/plain": [
       "<function __main__.kde_scipy_1.<locals>.<lambda>(x_grid)>"
      ]
     },
     "execution_count": 10,
     "metadata": {},
     "output_type": "execute_result"
    }
   ],
   "source": [
    "# Debido al ajuste de parámetros, nos indica un bandwidth = 13.96\n",
    "limites = kde_scipy_1(data['Limite_credito'])\n",
    "limites"
   ]
  },
  {
   "cell_type": "code",
   "execution_count": 11,
   "metadata": {},
   "outputs": [
    {
     "data": {
      "image/png": "[encoded data removed]",
      "text/plain": [
       "<Figure size 432x288 with 1 Axes>"
      ]
     },
     "metadata": {
      "needs_background": "light"
     },
     "output_type": "display_data"
    }
   ],
   "source": [
    "# Histograma con estimación por KDE\n",
    "x_limite = np.arange(1430,34600,1000)\n",
    "plt.figure()\n",
    "plt.plot(x_limite,limites(x_limite))\n",
    "plt.hist(limite,bins = 20, density = True)\n",
    "plt.title('Histograma KDE')\n",
    "plt.show()"
   ]
  },
  {
   "cell_type": "markdown",
   "metadata": {},
   "source": [
    "Una vez comprobado visualmente que la estimación KDE es buena, procedemos con la aplicación del Método Aceptación y Rechazo. Para este método encontramos primero el punto máximo de la estimación y lo graficamos para poder visualizarlo. Después de esto haciendo uso de la función creada en clase, creamos las variables aleatorias con la función generada en KDE, el valor máximo de esta misma función y el número de variables que queremos generar."
   ]
  },
  {
   "cell_type": "code",
   "execution_count": 176,
   "metadata": {},
   "outputs": [
    {
     "data": {
      "text/plain": [
       "[<matplotlib.lines.Line2D at 0x1c422f58c40>]"
      ]
     },
     "execution_count": 176,
     "metadata": {},
     "output_type": "execute_result"
    },
    {
     "data": {
      "image/png": "[encoded data removed]",
      "text/plain": [
       "<Figure size 432x288 with 1 Axes>"
      ]
     },
     "metadata": {
      "needs_background": "light"
     },
     "output_type": "display_data"
    }
   ],
   "source": [
    "# Punto máximo de la estimación anterior para mejor visualizacion\n",
    "f = limites\n",
    "x = np.arange(1430,34600,1000)\n",
    "\n",
    "# max_limite = f(optimize.fmin(lambda x:-f(x),0,disp=False))\n",
    "max_limite = 0.00027\n",
    "\n",
    "plt.plot(2500,max_limite,'x',lw = 10)\n",
    "\n",
    "plt.plot(x,limites(x))"
   ]
  },
  {
   "cell_type": "code",
   "execution_count": 171,
   "metadata": {},
   "outputs": [
    {
     "data": {
      "text/plain": [
       "array([0.])"
      ]
     },
     "execution_count": 171,
     "metadata": {},
     "output_type": "execute_result"
    }
   ],
   "source": [
    "max_limite"
   ]
  },
  {
   "cell_type": "markdown",
   "metadata": {},
   "source": [
    "#### Simulación Montecarlo Crudo - Aceptación y Rechazo"
   ]
  },
  {
   "cell_type": "code",
   "execution_count": 177,
   "metadata": {},
   "outputs": [],
   "source": [
    "np.random.seed(555)\n",
    "N = 10000\n",
    "var_aleatorias_montecarlo_limites = acep_rechazo(f,max_limite,N,34600,1)"
   ]
  },
  {
   "cell_type": "code",
   "execution_count": 178,
   "metadata": {},
   "outputs": [
    {
     "name": "stdout",
     "output_type": "stream",
     "text": [
      "La media de las variables aleatorias es de 7617.422021538029\n",
      "La media real de nuestros datos es de 8631.953698034848\n"
     ]
    }
   ],
   "source": [
    "print('La media de las variables aleatorias es de', var_aleatorias_montecarlo_limites.mean())\n",
    "print('La media real de nuestros datos es de', data['Limite_credito'].mean())"
   ]
  },
  {
   "cell_type": "code",
   "execution_count": 179,
   "metadata": {},
   "outputs": [
    {
     "data": {
      "image/png": "[encoded data removed]",
      "text/plain": [
       "<Figure size 432x288 with 1 Axes>"
      ]
     },
     "metadata": {
      "needs_background": "light"
     },
     "output_type": "display_data"
    }
   ],
   "source": [
    "x = np.arange(1430,34600,1000)\n",
    "plt.figure()\n",
    "plt.plot(x,f(x))\n",
    "plt.hist(var_aleatorias_montecarlo_limites, bins = 50, density = True)\n",
    "plt.show()"
   ]
  },
  {
   "cell_type": "markdown",
   "metadata": {},
   "source": [
    "Al visualizar ambos histogramas,KDE y Simulación por Montecarlo, se puede apreciar que el segundo tiene un mejor ajuste en los datos. Sin embargo, el **Error Porcentual** con su respectivo **Nivel de Confianza** nos asegurará lo mencionado anteriormente."
   ]
  },
  {
   "cell_type": "markdown",
   "metadata": {},
   "source": [
    "#### Intervalo de Confianza y Error Porcentual"
   ]
  },
  {
   "cell_type": "code",
   "execution_count": 185,
   "metadata": {},
   "outputs": [
    {
     "name": "stdout",
     "output_type": "stream",
     "text": [
      "Con una confianza de 95% la media por montecarlo crudo estará en el intervalo (7478.100387618991, 7756.743655457068)\n",
      "Media calculada por montecarlo crudo es de 7617.422021538029\n",
      "El porcentaje de error entre la media real y la media estimada con montecarlo fue de 13.32 %\n"
     ]
    }
   ],
   "source": [
    "# Nivel de confianza\n",
    "confianza = 0.95\n",
    "\n",
    "X = var_aleatorias_montecarlo_limites\n",
    "i1 = st.norm.interval(confianza, loc=np.mean(X), scale=st.sem(X))\n",
    "media_limite = np.mean(X)\n",
    "error = abs(np.array(data['Limite_credito'].mean() - media_limite)/media_limite)\n",
    "\n",
    "print('Con una confianza de 95% la media por montecarlo crudo estará en el intervalo',(i1))\n",
    "print('Media calculada por montecarlo crudo es de' ,media_limite)\n",
    "print('El porcentaje de error entre la media real y la media estimada con montecarlo fue de', round(error*100,2),'%')"
   ]
  },
  {
   "cell_type": "markdown",
   "metadata": {},
   "source": [
    "#### Distribuciones Hipotéticas "
   ]
  },
  {
   "cell_type": "code",
   "execution_count": 186,
   "metadata": {
    "scrolled": true
   },
   "outputs": [
    {
     "data": {
      "image/png": "[encoded data removed]",
      "text/plain": [
       "<Figure size 432x288 with 1 Axes>"
      ]
     },
     "metadata": {
      "needs_background": "light"
     },
     "output_type": "display_data"
    }
   ],
   "source": [
    "y, x ,_ = plt.hist(data['Limite_credito'], bins=50, density=True, label='Data')\n",
    "x = x[1:]\n",
    "\n",
    "dist = [d for d in dir(st) if isinstance(getattr(st,d), getattr(st, 'rv_continuous'))]\n",
    "dist = dist[3:7] + ['gamma'] + ['powerlognorm'] + ['wald']\n",
    "error = pd.DataFrame(index=dist, columns=['error'])\n",
    "\n",
    "for d in dist:\n",
    "    params= getattr(st,d).fit(data['Limite_credito'])\n",
    "    y_hat = getattr(st, d)(*params).pdf(x)\n",
    "    error.loc[d]= ((y-y_hat)**2).mean()\n",
    "    plt.plot(x,y_hat, label=d)\n",
    "    \n",
    "plt.legend()\n",
    "plt.show()"
   ]
  },
  {
   "cell_type": "code",
   "execution_count": 190,
   "metadata": {},
   "outputs": [
    {
     "data": {
      "text/html": [
       "<div>\n",
       "<style scoped>\n",
       "    .dataframe tbody tr th:only-of-type {\n",
       "        vertical-align: middle;\n",
       "    }\n",
       "\n",
       "    .dataframe tbody tr th {\n",
       "        vertical-align: top;\n",
       "    }\n",
       "\n",
       "    .dataframe thead th {\n",
       "        text-align: right;\n",
       "    }\n",
       "</style>\n",
       "<table border=\"1\" class=\"dataframe\">\n",
       "  <thead>\n",
       "    <tr style=\"text-align: right;\">\n",
       "      <th></th>\n",
       "      <th>betaprime</th>\n",
       "      <th>powerlognorm</th>\n",
       "      <th>gamma</th>\n",
       "      <th>wald</th>\n",
       "      <th>beta</th>\n",
       "      <th>bradford</th>\n",
       "      <th>argus</th>\n",
       "    </tr>\n",
       "  </thead>\n",
       "  <tbody>\n",
       "    <tr>\n",
       "      <th>error</th>\n",
       "      <td>3.55985e-10</td>\n",
       "      <td>4.33198e-10</td>\n",
       "      <td>4.88268e-10</td>\n",
       "      <td>4.89587e-10</td>\n",
       "      <td>9.62929e-10</td>\n",
       "      <td>1.48324e-09</td>\n",
       "      <td>3.21389e-09</td>\n",
       "    </tr>\n",
       "  </tbody>\n",
       "</table>\n",
       "</div>"
      ],
      "text/plain": [
       "         betaprime powerlognorm        gamma         wald         beta  \\\n",
       "error  3.55985e-10  4.33198e-10  4.88268e-10  4.89587e-10  9.62929e-10   \n",
       "\n",
       "          bradford        argus  \n",
       "error  1.48324e-09  3.21389e-09  "
      ]
     },
     "execution_count": 190,
     "metadata": {},
     "output_type": "execute_result"
    }
   ],
   "source": [
    "error=error.sort_values('error')\n",
    "error.T"
   ]
  },
  {
   "cell_type": "code",
   "execution_count": 191,
   "metadata": {},
   "outputs": [
    {
     "name": "stdout",
     "output_type": "stream",
     "text": [
      "El error del kernel elegido es el de Betaprime con valor de error    3.559850e-10\n",
      "dtype: float64\n"
     ]
    }
   ],
   "source": [
    "print('El error del kernel elegido es el de Betaprime con valor de',error.min())"
   ]
  },
  {
   "cell_type": "markdown",
   "metadata": {},
   "source": [
    "La distribución que mejor se ajusta es la distribución betaprime, esta distribución es incluso mejor que la del kernel, por lo que decidimos hacer la prueba de chi cuadrada y cuantil cuantil para corroborar si en efecto la beta se ajustaba mejor.\n",
    "\n",
    "> $H_0$: Los datos se distribuye como  una función de distribución betaprime\n",
    "\n",
    "> $H_a$: Los datos no se distribuyen como betaprime"
   ]
  },
  {
   "cell_type": "code",
   "execution_count": 192,
   "metadata": {},
   "outputs": [
    {
     "data": {
      "text/plain": [
       "(22.34058653465477, 4477.294738025832, -27040.793162824877, 9095071.306866262)"
      ]
     },
     "execution_count": 192,
     "metadata": {},
     "output_type": "execute_result"
    }
   ],
   "source": [
    "params = st.betaprime.fit(x)\n",
    "params"
   ]
  },
  {
   "cell_type": "code",
   "execution_count": 193,
   "metadata": {},
   "outputs": [
    {
     "name": "stdout",
     "output_type": "stream",
     "text": [
      "Valor de chi cuadrado teorico  =  24.51264548468972\n",
      "Valor de chi cuadrado librería =  Power_divergenceResult(statistic=24.51264548468972, pvalue=0.9986658711673334)\n",
      "Estadístico de chi_cuadrado =  27.58711163827534\n"
     ]
    }
   ],
   "source": [
    "pi = st.betaprime.pdf(x,*params)\n",
    "# Cálculo de la esperanza usando la expresión teórica\n",
    "Ei = x*pi\n",
    "\n",
    "# Cálculo teórico de la chi cuadrada\n",
    "x2 = np.sum(list(map(lambda Ei, obs_i:(obs_i - Ei)**2 / Ei, Ei, y)))\n",
    "print('Valor de chi cuadrado teorico  = ', x2)\n",
    "\n",
    "# Cálculo usando la librería estadística de la chi cuadrada\n",
    "X2 = st.chisquare(y, Ei)\n",
    "print('Valor de chi cuadrado librería = ', X2)\n",
    "\n",
    "# Cálculo de Grados de libertad del estadístico\n",
    "p = 2 # Parámetros estimados con los datos\n",
    "m = 20-p-1 # grados de libertad\n",
    "\n",
    "Chi_est = st.chi2.ppf(q=0.95, df=m)\n",
    "print('Estadístico de chi_cuadrado = ', Chi_est)"
   ]
  },
  {
   "cell_type": "markdown",
   "metadata": {},
   "source": [
    "Se acepta la  𝐻0  porque  𝑥2<𝑥21−𝛼,𝑚′ , por lo tanto no podemos rechazar que los datos se distribuyen como una función betaprime, además el  𝑝𝑣𝑎𝑙𝑢𝑒  es grande"
   ]
  },
  {
   "cell_type": "markdown",
   "metadata": {},
   "source": [
    "#### Prueba de cuantil-cuantil"
   ]
  },
  {
   "cell_type": "code",
   "execution_count": 194,
   "metadata": {
    "scrolled": false
   },
   "outputs": [
    {
     "data": {
      "image/png": "[encoded data removed]",
      "text/plain": [
       "<Figure size 576x720 with 2 Axes>"
      ]
     },
     "metadata": {
      "needs_background": "light"
     },
     "output_type": "display_data"
    }
   ],
   "source": [
    "fig, ax = plt.subplots(2,1, figsize=(8,10))\n",
    "fig.tight_layout(pad=5)\n",
    "\n",
    "y, x, _ = ax[0].hist(data['Limite_credito'], bins=20, density=True, label='Histograma mediciones')\n",
    "dist = 'betaprime'\n",
    "params = getattr(st, dist).fit(data['Limite_credito'])\n",
    "y_hat = getattr(st, dist).pdf(x, *params)\n",
    "ax[0].plot(x, y_hat,'r--', label='Distribución ajustada')\n",
    "ax[0].set_ylabel('Probability')\n",
    "ax[0].grid()\n",
    "\n",
    "grap1 = sm.qqplot(data['Limite_credito'], dist=getattr(st, dist), line='q', fit=True, ax=ax[1])\n",
    "ax[1].grid()"
   ]
  },
  {
   "cell_type": "markdown",
   "metadata": {},
   "source": [
    "### Kolmogorov"
   ]
  },
  {
   "cell_type": "code",
   "execution_count": 195,
   "metadata": {},
   "outputs": [
    {
     "data": {
      "text/plain": [
       "(8631.953698034955, 9088.327899308213)"
      ]
     },
     "execution_count": 195,
     "metadata": {},
     "output_type": "execute_result"
    }
   ],
   "source": [
    "media, desviacion = st.norm.fit(limite)\n",
    "media, desviacion"
   ]
  },
  {
   "cell_type": "code",
   "execution_count": 196,
   "metadata": {},
   "outputs": [
    {
     "data": {
      "text/plain": [
       "(0.21431836670647703, 0.0)"
      ]
     },
     "execution_count": 196,
     "metadata": {},
     "output_type": "execute_result"
    }
   ],
   "source": [
    "d, pvalor = st.kstest(limite,\"norm\",args=(media,desviacion))\n",
    "d, pvalor"
   ]
  },
  {
   "cell_type": "markdown",
   "metadata": {},
   "source": [
    "Con la prueba de kolmogorov que estudia si la distribución de los datos tiene una forma normal con media = 0 y desviación = 1, tenemos como resultado una p-value de 0, que con una confianza del 95% es considerada pequeña por lo tanto rechazamos la $H_0$. Esto tiene algo de sentido ya que como observamos anteriormente nuestros datos tienen una media 8631 y una desviación de 9088. Por lo que se concluye que NO se tiene una forma normal.\n",
    "\n",
    "> $H_0$: Los datos se distribuye como  una función de distribución normal\n",
    "\n",
    "> $H_a$: Los datos no se distribuyen como normal"
   ]
  },
  {
   "cell_type": "markdown",
   "metadata": {},
   "source": [
    "#### Simulación de la distribución BETAPRIME"
   ]
  },
  {
   "cell_type": "code",
   "execution_count": 203,
   "metadata": {},
   "outputs": [
    {
     "data": {
      "text/plain": [
       "(9952.168988255244, 1000)"
      ]
     },
     "execution_count": 203,
     "metadata": {},
     "output_type": "execute_result"
    }
   ],
   "source": [
    "samp = st.betaprime.rvs(*params, size=1000) \n",
    "samp.mean(), len(samp)"
   ]
  },
  {
   "cell_type": "code",
   "execution_count": 204,
   "metadata": {},
   "outputs": [
    {
     "name": "stdout",
     "output_type": "stream",
     "text": [
      "La media de las variables aleatorias con distribución Betaprime es de 9952.168988255244\n",
      "La media real de nuestros datos es de 8631.953698034848\n"
     ]
    }
   ],
   "source": [
    "print('La media de las variables aleatorias con distribución Betaprime es de', samp.mean() )\n",
    "print('La media real de nuestros datos es de', data['Limite_credito'].mean() )"
   ]
  },
  {
   "cell_type": "markdown",
   "metadata": {},
   "source": [
    "#### Intervalo de Confianza y Error Porcentual"
   ]
  },
  {
   "cell_type": "code",
   "execution_count": 205,
   "metadata": {},
   "outputs": [
    {
     "name": "stdout",
     "output_type": "stream",
     "text": [
      "Con una confianza de 0.95 la media del límite de crédito promedio por montecarlo crudo, estará en el intervalo t normal,\n",
      " (8434.144887182796, 11470.193089327691)\n",
      "Media calculada por montecarlo crudo del límite de crédito promedio 9952.168988255244\n",
      "El porcentaje de error entre la media real y la media estimada con montecarlo fue de 13.27 %\n"
     ]
    }
   ],
   "source": [
    "np.random.seed(123)\n",
    "\n",
    "# Nivel de confianza\n",
    "confianza = 0.95\n",
    "X = samp\n",
    "i1 = st.norm.interval(confianza, loc=np.mean(X), scale=st.sem(X))\n",
    "credito_medio = np.mean(X)\n",
    "\n",
    "\n",
    "print('Con una confianza de %2.2f la media del límite de crédito promedio por montecarlo crudo, estará en el intervalo t normal,\\n %s' %(confianza,i1))\n",
    "print('Media calculada por montecarlo crudo del límite de crédito promedio' ,credito_medio)\n",
    "\n",
    "error_positivos = abs(np.array(data['Limite_credito'].mean() - credito_medio)/credito_medio)\n",
    "porcentaje = error_positivos*100\n",
    "print('El porcentaje de error entre la media real y la media estimada con montecarlo fue de', round(porcentaje,2),'%')"
   ]
  },
  {
   "cell_type": "markdown",
   "metadata": {},
   "source": [
    "#### Simulación Montecarlo con Metodo de reducción de varianza para Betaprime"
   ]
  },
  {
   "cell_type": "code",
   "execution_count": 206,
   "metadata": {},
   "outputs": [
    {
     "data": {
      "text/plain": [
       "1000"
      ]
     },
     "execution_count": 206,
     "metadata": {},
     "output_type": "execute_result"
    }
   ],
   "source": [
    "acumulada = st.betaprime.cdf(samp,*params)\n",
    "len(acumulada)"
   ]
  },
  {
   "cell_type": "code",
   "execution_count": 207,
   "metadata": {},
   "outputs": [
    {
     "data": {
      "text/plain": [
       "8987.37405324043"
      ]
     },
     "execution_count": 207,
     "metadata": {},
     "output_type": "execute_result"
    }
   ],
   "source": [
    "np.random.seed(123)\n",
    "#Estratificado\n",
    "N = 1000\n",
    "u = muestreo_est(N)\n",
    "funcion2 = lambda u: Gen_distr_discreta_(acumulada,samp,1000)\n",
    "media2 = np.mean(funcion2(u))\n",
    "media2"
   ]
  },
  {
   "cell_type": "markdown",
   "metadata": {},
   "source": [
    "#### Intervalo de Confianza y Error Porcentual"
   ]
  },
  {
   "cell_type": "code",
   "execution_count": 208,
   "metadata": {},
   "outputs": [
    {
     "name": "stdout",
     "output_type": "stream",
     "text": [
      "Con una confianza de 0.95 la media del precio promedio por estratificado, estará en el intervalo t normal,\n",
      " (8027.423428103278, 9961.25332905252)\n",
      "Media calculada por estratificado crudo del precio promedio 8987.37405324043\n",
      "El porcentaje de error entre la media real y la media estimada con estratificado fue de 3.95 %\n"
     ]
    }
   ],
   "source": [
    "np.random.seed(123)\n",
    "\n",
    "# Nivel de confianza\n",
    "confianza = 0.95\n",
    "X = funcion2(u)\n",
    "i1 = st.norm.interval(confianza, loc=np.mean(X), scale=st.sem(X))\n",
    "credito_media = media2\n",
    "\n",
    "\n",
    "print('Con una confianza de %2.2f la media del precio promedio por estratificado, estará en el intervalo t normal,\\n %s' %(confianza,i1))\n",
    "print('Media calculada por estratificado crudo del precio promedio' ,credito_media)\n",
    "\n",
    "error_positivos = abs(np.array(data['Limite_credito'].mean() - credito_media)/credito_media)\n",
    "porcentaje = error_positivos*100\n",
    "print('El porcentaje de error entre la media real y la media estimada con estratificado fue de', round(porcentaje,2),'%')"
   ]
  },
  {
   "cell_type": "markdown",
   "metadata": {},
   "source": [
    "#### Resumen Funcion Gamma montecarlo VS Gamma estratificado"
   ]
  },
  {
   "cell_type": "markdown",
   "metadata": {},
   "source": [
    "En este caso, nuevamente vemos que la simulación en Montecarlo crudo tuvo un error porcentual menor que el método estratificado por lo que este es con la distribución que nos quedaremos."
   ]
  },
  {
   "cell_type": "markdown",
   "metadata": {},
   "source": [
    "#### Conclusión Nodo 1\n",
    "\n",
    "Al comparar la distribución Betaprime Cruda con el KDE así tenemos un error menor en la distribución Beta por lo que con esta hacemos una esimación sobre el límite de crédito promedio que se otorgará a los clientes será de: $12,423.85"
   ]
  },
  {
   "cell_type": "markdown",
   "metadata": {},
   "source": [
    "### NODO 2. Edad cliente"
   ]
  },
  {
   "cell_type": "markdown",
   "metadata": {},
   "source": [
    "Las tarjetas de crédito son una herramienta para cubrir los gastos que no pueden ser liquidados inmediatamente, por lo tanto la importancia de conocer en que rango de edad se encuentra la mayoría de los clientes en un banco, radica en que la institución tenga un panorama más amplio en cuanto a que sector de la población es más propenso a adquirir una. Lo anterior es una estrategia para crecer su cartera de clientes al ofrecer tarjetas de crédito a personas dentro del rango de edad más probable a aceptar una."
   ]
  },
  {
   "cell_type": "code",
   "execution_count": 72,
   "metadata": {
    "scrolled": true
   },
   "outputs": [
    {
     "data": {
      "text/plain": [
       "Text(0.5, 1.0, 'Edad')"
      ]
     },
     "execution_count": 72,
     "metadata": {},
     "output_type": "execute_result"
    },
    {
     "data": {
      "image/png": "[encoded data removed]",
      "text/plain": [
       "<Figure size 432x288 with 1 Axes>"
      ]
     },
     "metadata": {
      "needs_background": "light"
     },
     "output_type": "display_data"
    }
   ],
   "source": [
    "edad =  data['Edad']\n",
    "plt.hist(edad)\n",
    "plt.title(\"Edad\")"
   ]
  },
  {
   "cell_type": "markdown",
   "metadata": {},
   "source": [
    "Una vez visualizado el histograma sencillo de los datos, podemos observar que tiene una distribución gaussiana, por lo tanto optamos por utilizar un KDE gaussiano para estimar la función de densidad de probabilidad. Para esto necesitamos estimar antes el 'bando de ancha' mejor conocido como 'bandwidth'."
   ]
  },
  {
   "cell_type": "code",
   "execution_count": 31,
   "metadata": {},
   "outputs": [
    {
     "name": "stdout",
     "output_type": "stream",
     "text": [
      "{'bandwidth': 1.3103448275862069}\n"
     ]
    }
   ],
   "source": [
    "from sklearn.model_selection import GridSearchCV\n",
    "grid = GridSearchCV(KernelDensity(),\n",
    "                    {'bandwidth': np.linspace(1, 10, 30)},\n",
    "                    cv=20) \n",
    "grid.fit(np.array(edad)[:, None])\n",
    "print(grid.best_params_)"
   ]
  },
  {
   "cell_type": "code",
   "execution_count": 32,
   "metadata": {},
   "outputs": [
    {
     "data": {
      "text/plain": [
       "<function __main__.kde_scipy_2.<locals>.<lambda>(x_grid)>"
      ]
     },
     "execution_count": 32,
     "metadata": {},
     "output_type": "execute_result"
    }
   ],
   "source": [
    "# Debido al ajuste de parámetros, nos indica un bandwidth = 1.3\n",
    "edades = kde_scipy_2(data['Edad'])\n",
    "edades"
   ]
  },
  {
   "cell_type": "code",
   "execution_count": 76,
   "metadata": {
    "scrolled": true
   },
   "outputs": [
    {
     "data": {
      "image/png": "[encoded data removed]",
      "text/plain": [
       "<Figure size 432x288 with 1 Axes>"
      ]
     },
     "metadata": {
      "needs_background": "light"
     },
     "output_type": "display_data"
    }
   ],
   "source": [
    "x_edad = np.arange(26,73,1)\n",
    "plt.figure()\n",
    "plt.plot(x_edad,edades(x_edad))\n",
    "plt.hist(edad,bins =20, density = True)\n",
    "plt.title(\"KDE\")\n",
    "plt.show()"
   ]
  },
  {
   "cell_type": "markdown",
   "metadata": {},
   "source": [
    "Efectivamente, se tiene un buen ajuste del kernel utilizado para nuestros datos, sin embargo probaremos distintas distribuciones de probabilidad para verificar cual es la ideal con el menor error porcentual.\n",
    "\n",
    "Para tener una mejor visualización de los datos, graficamos la distribución y el punto más alto."
   ]
  },
  {
   "cell_type": "code",
   "execution_count": 34,
   "metadata": {},
   "outputs": [
    {
     "data": {
      "text/plain": [
       "[<matplotlib.lines.Line2D at 0x1c42247c3d0>]"
      ]
     },
     "execution_count": 34,
     "metadata": {},
     "output_type": "execute_result"
    },
    {
     "data": {
      "image/png": "[encoded data removed]",
      "text/plain": [
       "<Figure size 432x288 with 1 Axes>"
      ]
     },
     "metadata": {
      "needs_background": "light"
     },
     "output_type": "display_data"
    }
   ],
   "source": [
    "f = edades\n",
    "x = np.arange(26,73,1)\n",
    "\n",
    "max_edad = f(optimize.fmin(lambda x:-f(x),0,disp=False))\n",
    "\n",
    "plt.plot(45,max_edad,'x',lw = 10)\n",
    "\n",
    "plt.plot(x,edades(x))"
   ]
  },
  {
   "cell_type": "markdown",
   "metadata": {},
   "source": [
    "#### Simulación Montecarlo CRUDO - Aceptación y Rechazo"
   ]
  },
  {
   "cell_type": "code",
   "execution_count": 74,
   "metadata": {},
   "outputs": [],
   "source": [
    "np.random.seed(555)\n",
    "N = 10000\n",
    "var_aleatorias_montecarlo_edades = acep_rechazo(f,max_edad,N,73,1)"
   ]
  },
  {
   "cell_type": "code",
   "execution_count": 75,
   "metadata": {},
   "outputs": [
    {
     "name": "stdout",
     "output_type": "stream",
     "text": [
      "La media de las variables aleatorias es de 46.37341864856671\n",
      "La media real de nuestros datos es de 46.32596030413745\n"
     ]
    }
   ],
   "source": [
    "print('La media de las variables aleatorias es de', var_aleatorias_montecarlo_edades.mean())\n",
    "print('La media real de nuestros datos es de', data['Edad'].mean())"
   ]
  },
  {
   "cell_type": "code",
   "execution_count": 77,
   "metadata": {},
   "outputs": [
    {
     "data": {
      "image/png": "[encoded data removed]",
      "text/plain": [
       "<Figure size 432x288 with 1 Axes>"
      ]
     },
     "metadata": {
      "needs_background": "light"
     },
     "output_type": "display_data"
    }
   ],
   "source": [
    "x = np.arange(26,73,1)\n",
    "plt.figure()\n",
    "plt.plot(x,f(x))\n",
    "plt.hist(var_aleatorias_montecarlo_edades, bins = 20, density = True)\n",
    "plt.title(\"Monte Carlo con KDE\")\n",
    "plt.show()"
   ]
  },
  {
   "cell_type": "markdown",
   "metadata": {},
   "source": [
    "Como podemos observar en los resultados anteriores, los datos simulados con montecarlo comparados con la función de KDE tienen un gran parecido y comportamiento similar."
   ]
  },
  {
   "cell_type": "markdown",
   "metadata": {},
   "source": [
    "#### Intervalo de Confianza y Error Porcentual"
   ]
  },
  {
   "cell_type": "code",
   "execution_count": 38,
   "metadata": {},
   "outputs": [
    {
     "name": "stdout",
     "output_type": "stream",
     "text": [
      "Con una confianza de 95% la media por montecarlo crudo estará en el intervalo (46.21423704659748, 46.53260025053594)\n",
      "Media calculada por montecarlo crudo es de 46.37341864856671\n",
      "El porcentaje de error entre la media real y la media estimada con montecarlo fue de 0.1 %\n"
     ]
    }
   ],
   "source": [
    "np.random.seed(555)\n",
    "\n",
    "# Nivel de confianza\n",
    "confianza = 0.95\n",
    "\n",
    "X = var_aleatorias_montecarlo_edades\n",
    "i1 = st.norm.interval(confianza, loc=np.mean(X), scale=st.sem(X))\n",
    "media_edades = np.mean(X)\n",
    "error = abs(np.array(data['Edad'].mean() - media_edades)/media_edades)\n",
    "\n",
    "print('Con una confianza de 95% la media por montecarlo crudo estará en el intervalo',(i1))\n",
    "print('Media calculada por montecarlo crudo es de' ,media_edades)\n",
    "print('El porcentaje de error entre la media real y la media estimada con montecarlo fue de', round(error*100,2),'%')"
   ]
  },
  {
   "cell_type": "markdown",
   "metadata": {},
   "source": [
    "#### Probando ajuste de distribuciones hipotéticas"
   ]
  },
  {
   "cell_type": "code",
   "execution_count": 78,
   "metadata": {},
   "outputs": [
    {
     "data": {
      "image/png": "[encoded data removed]",
      "text/plain": [
       "<Figure size 432x288 with 1 Axes>"
      ]
     },
     "metadata": {
      "needs_background": "light"
     },
     "output_type": "display_data"
    }
   ],
   "source": [
    "y, x ,_ = plt.hist(data['Edad'], bins=25, density=True, label='Data')\n",
    "x = x[1:]\n",
    "\n",
    "dist = [d for d in dir(st) if isinstance(getattr(st,d), getattr(st, 'rv_continuous'))]\n",
    "dist = dist[1:5] + ['gamma']\n",
    "error = pd.DataFrame(index=dist, columns=['error'])\n",
    "\n",
    "for d in dist:\n",
    "    params= getattr(st,d).fit(data['Edad'])\n",
    "    y_hat = getattr(st, d)(*params).pdf(x)\n",
    "    error.loc[d]= ((y-y_hat)**2).mean()\n",
    "    plt.plot(x,y_hat, label=d)\n",
    "    \n",
    "plt.legend()\n",
    "plt.title(\"Distribuciones hipóteticas\")\n",
    "plt.show()"
   ]
  },
  {
   "cell_type": "code",
   "execution_count": 40,
   "metadata": {},
   "outputs": [
    {
     "data": {
      "text/html": [
       "<div>\n",
       "<style scoped>\n",
       "    .dataframe tbody tr th:only-of-type {\n",
       "        vertical-align: middle;\n",
       "    }\n",
       "\n",
       "    .dataframe tbody tr th {\n",
       "        vertical-align: top;\n",
       "    }\n",
       "\n",
       "    .dataframe thead th {\n",
       "        text-align: right;\n",
       "    }\n",
       "</style>\n",
       "<table border=\"1\" class=\"dataframe\">\n",
       "  <thead>\n",
       "    <tr style=\"text-align: right;\">\n",
       "      <th></th>\n",
       "      <th>error</th>\n",
       "    </tr>\n",
       "  </thead>\n",
       "  <tbody>\n",
       "    <tr>\n",
       "      <th>anglit</th>\n",
       "      <td>0.000103883</td>\n",
       "    </tr>\n",
       "    <tr>\n",
       "      <th>arcsine</th>\n",
       "      <td>0.00142438</td>\n",
       "    </tr>\n",
       "    <tr>\n",
       "      <th>argus</th>\n",
       "      <td>0.000237332</td>\n",
       "    </tr>\n",
       "    <tr>\n",
       "      <th>beta</th>\n",
       "      <td>2.95996e-05</td>\n",
       "    </tr>\n",
       "    <tr>\n",
       "      <th>gamma</th>\n",
       "      <td>3.16917e-05</td>\n",
       "    </tr>\n",
       "  </tbody>\n",
       "</table>\n",
       "</div>"
      ],
      "text/plain": [
       "               error\n",
       "anglit   0.000103883\n",
       "arcsine   0.00142438\n",
       "argus    0.000237332\n",
       "beta     2.95996e-05\n",
       "gamma    3.16917e-05"
      ]
     },
     "execution_count": 40,
     "metadata": {},
     "output_type": "execute_result"
    }
   ],
   "source": [
    "error= error.sort_values(error)\n",
    "error.T"
   ]
  },
  {
   "cell_type": "code",
   "execution_count": 41,
   "metadata": {},
   "outputs": [
    {
     "name": "stdout",
     "output_type": "stream",
     "text": [
      "El error del kernel elegido es el de Gamma con valor minimo de error    0.00003\n",
      "dtype: float64\n"
     ]
    }
   ],
   "source": [
    "print('El error del kernel elegido es el de Gamma con valor minimo de',er.min())"
   ]
  },
  {
   "cell_type": "code",
   "execution_count": 42,
   "metadata": {},
   "outputs": [
    {
     "name": "stdout",
     "output_type": "stream",
     "text": [
      "Valor de chi cuadrado librería =  Power_divergenceResult(statistic=23.5639984204894, pvalue=0.48674205127599823)\n",
      "Estadístico de chi_cuadrado =  27.58711163827534\n"
     ]
    }
   ],
   "source": [
    "params = st.gamma.fit(x)\n",
    "pi = st.gamma.pdf(x,*params)\n",
    "# Cálculo de la esperanza usando la expresión teórica\n",
    "Ei = x*pi\n",
    "\n",
    "# Cálculo teórico de la chi cuadrada\n",
    "#x2 = np.sum(list(map(lambda Ei, obs_i:(obs_i - Ei)**2 / Ei, Ei, y)))\n",
    "#print('Valor de chi cuadrado teorico  = ', x2)\n",
    "\n",
    "# Cálculo usando la librería estadística de la chi cuadrada\n",
    "X2 = st.chisquare(y, Ei)\n",
    "print('Valor de chi cuadrado librería = ', X2)\n",
    "\n",
    "# Cálculo de Grados de libertad del estadístico\n",
    "p = 2 # Parámetros estimados con los datos\n",
    "m = 20-p-1 # grados de libertad\n",
    "\n",
    "Chi_est = st.chi2.ppf(q=0.95, df=m)\n",
    "print('Estadístico de chi_cuadrado = ', Chi_est)"
   ]
  },
  {
   "cell_type": "markdown",
   "metadata": {},
   "source": [
    "Aceptamos la $H_0$ ya que el valor de chi cuadrado es menor al estadístico de chi cuadrado por lo tanto, no se puede rechazar que los datos se distribuyen como una función gamma"
   ]
  },
  {
   "cell_type": "markdown",
   "metadata": {},
   "source": [
    "#### Prueba de cuantil-cuantil"
   ]
  },
  {
   "cell_type": "code",
   "execution_count": 43,
   "metadata": {
    "scrolled": false
   },
   "outputs": [
    {
     "data": {
      "image/png": "[encoded data removed]",
      "text/plain": [
       "<Figure size 576x720 with 2 Axes>"
      ]
     },
     "metadata": {
      "needs_background": "light"
     },
     "output_type": "display_data"
    }
   ],
   "source": [
    "fig, ax = plt.subplots(2,1, figsize=(8,10))\n",
    "fig.tight_layout(pad=3.0)\n",
    "\n",
    "y, x, _ = ax[0].hist(data['Edad'], bins=20, density=True, label='Histograma mediciones')\n",
    "dist = 'gamma'\n",
    "params = getattr(st, dist).fit(data['Edad'])\n",
    "y_hat = getattr(st, dist).pdf(x, *params)\n",
    "ax[0].plot(x, y_hat,'r--', label='Distribución ajustada')\n",
    "ax[0].set_ylabel('Probability')\n",
    "ax[0].grid()\n",
    "\n",
    "grap1 = sm.qqplot(data['Edad'], dist=getattr(st, dist), line='q', fit=True, ax=ax[1])\n",
    "ax[1].grid()"
   ]
  },
  {
   "cell_type": "markdown",
   "metadata": {},
   "source": [
    "Una vez más se comprueba que la distribución Gamma es la óptima al ajustarla a nuestros datos."
   ]
  },
  {
   "cell_type": "markdown",
   "metadata": {},
   "source": [
    "### Prueba de Kolmogorov"
   ]
  },
  {
   "cell_type": "code",
   "execution_count": 138,
   "metadata": {},
   "outputs": [
    {
     "data": {
      "text/plain": [
       "(46.32596030413745, 8.01641820891176)"
      ]
     },
     "execution_count": 138,
     "metadata": {},
     "output_type": "execute_result"
    }
   ],
   "source": [
    "media, desviacion = st.norm.fit(edad)\n",
    "media, desviacion"
   ]
  },
  {
   "cell_type": "code",
   "execution_count": 139,
   "metadata": {
    "scrolled": true
   },
   "outputs": [
    {
     "data": {
      "text/plain": [
       "(0.02810047011258454, 2.218324282964099e-07)"
      ]
     },
     "execution_count": 139,
     "metadata": {},
     "output_type": "execute_result"
    }
   ],
   "source": [
    "d, pvalor = st.kstest(edad,\"norm\",args=(media,desviacion))\n",
    "d, pvalor"
   ]
  },
  {
   "cell_type": "markdown",
   "metadata": {},
   "source": [
    "Con la prueba de kolmogorov que estudia si la distribución de los datos tiene una forma normal con media = 0 y desviación = 1, tenemos como resultado una p-value de 0, que con una confianza del 95% es considerada pequeña por lo tanto rechazamos la $H_0$. Esto tiene algo de sentido ya que como observamos anteriormente nuestros datos tienen una media 46 y una desviación de 8. Por lo que se concluye que NO se tiene una forma normal. Aunque nuestros datos asemejan una distribucion normal no es esta exactamente.\n",
    "\n",
    "> $H_0$: Los datos se distribuye como  una función de distribución normal\n",
    "\n",
    "> $H_a$: Los datos no se distribuyen como normal"
   ]
  },
  {
   "cell_type": "markdown",
   "metadata": {},
   "source": [
    "### Montecarlo Crudo"
   ]
  },
  {
   "cell_type": "markdown",
   "metadata": {},
   "source": [
    "#### Simulación de la distribución Gamma"
   ]
  },
  {
   "cell_type": "code",
   "execution_count": 44,
   "metadata": {},
   "outputs": [
    {
     "data": {
      "text/plain": [
       "(46.35147234816977, 1000)"
      ]
     },
     "execution_count": 44,
     "metadata": {},
     "output_type": "execute_result"
    }
   ],
   "source": [
    "samp = st.gamma.rvs(*params, size=1000) \n",
    "samp.mean(), len(samp)"
   ]
  },
  {
   "cell_type": "code",
   "execution_count": 45,
   "metadata": {},
   "outputs": [
    {
     "name": "stdout",
     "output_type": "stream",
     "text": [
      "La media de las variables aleatorias con distribución GAMMA es de 46.35147234816977\n",
      "La media real de nuestros datos es de 46.32596030413745\n"
     ]
    }
   ],
   "source": [
    "print('La media de las variables aleatorias con distribución GAMMA es de', samp.mean())\n",
    "print('La media real de nuestros datos es de', data['Edad'].mean())"
   ]
  },
  {
   "cell_type": "markdown",
   "metadata": {},
   "source": [
    "#### Intervalo de Confianza y Error Porcentual"
   ]
  },
  {
   "cell_type": "code",
   "execution_count": 46,
   "metadata": {
    "scrolled": true
   },
   "outputs": [
    {
     "name": "stdout",
     "output_type": "stream",
     "text": [
      "Con una confianza de 95% la media la edad del cliente por montecarlo crudo, estará en el intervalo (45.83934103214675, 46.863603664192794)\n",
      "Media calculada por montecarlo crudo de la edad media 46.35147234816977\n",
      "El porcentaje de error entre la media real y la media estimada con montecarlo fue de 0.06 %\n"
     ]
    }
   ],
   "source": [
    "np.random.seed(555)\n",
    "\n",
    "# Nivel de confianza\n",
    "confianza = 0.95\n",
    "X = samp\n",
    "i1 = st.norm.interval(confianza, loc=np.mean(X), scale=st.sem(X))\n",
    "media_edades = np.mean(X)\n",
    "error= abs(np.array(data['Edad'].mean() - media_edades)/media_edades)\n",
    "\n",
    "print('Con una confianza de 95% la media la edad del cliente por montecarlo crudo, estará en el intervalo', i1)\n",
    "print('Media calculada por montecarlo crudo de la edad media' ,media_edades)\n",
    "print('El porcentaje de error entre la media real y la media estimada con montecarlo fue de', round(error*100,2),'%')"
   ]
  },
  {
   "cell_type": "markdown",
   "metadata": {},
   "source": [
    "### Montecarlo Estratificado"
   ]
  },
  {
   "cell_type": "markdown",
   "metadata": {},
   "source": [
    "#### Simulación Montecarlo con Metodo de reducción de varianza para Gamma"
   ]
  },
  {
   "cell_type": "code",
   "execution_count": 47,
   "metadata": {},
   "outputs": [
    {
     "data": {
      "text/plain": [
       "1000"
      ]
     },
     "execution_count": 47,
     "metadata": {},
     "output_type": "execute_result"
    }
   ],
   "source": [
    "acumulada = st.gamma.cdf(samp,*params)\n",
    "len(acumulada)"
   ]
  },
  {
   "cell_type": "code",
   "execution_count": 48,
   "metadata": {},
   "outputs": [
    {
     "data": {
      "text/plain": [
       "46.18628258793501"
      ]
     },
     "execution_count": 48,
     "metadata": {},
     "output_type": "execute_result"
    }
   ],
   "source": [
    "np.random.seed(555)\n",
    "#Estratificado\n",
    "N = 1000\n",
    "u = muestreo_est(N)\n",
    "funcion2 = lambda u: Gen_distr_discreta_(acumulada,samp,1000)\n",
    "media2 = np.mean(funcion2(u))\n",
    "media2"
   ]
  },
  {
   "cell_type": "markdown",
   "metadata": {},
   "source": [
    "#### Intervalo de confianza y error porcentual"
   ]
  },
  {
   "cell_type": "code",
   "execution_count": 49,
   "metadata": {
    "scrolled": true
   },
   "outputs": [
    {
     "name": "stdout",
     "output_type": "stream",
     "text": [
      "Con una confianza de 95% la media de la edad por estratificado, estará en el intervalo (45.30697825807462, 46.323968121498694)\n",
      "Media calculada por estratificado crudo de la edad del cliente 46.18628258793501\n",
      "El porcentaje de error entre la media real y la media estimada con estratificado fue de 0.3 %\n"
     ]
    }
   ],
   "source": [
    "np.random.seed(123)\n",
    "\n",
    "# Nivel de confianza\n",
    "confianza = 0.95\n",
    "X = funcion2(u)\n",
    "\n",
    "i1 = st.norm.interval(confianza, loc=np.mean(X), scale=st.sem(X))\n",
    "\n",
    "media_edades = media2\n",
    "error= abs(np.array(data['Edad'].mean() - media_edades)/media_edades)\n",
    "\n",
    "\n",
    "print('Con una confianza de 95% la media de la edad por estratificado, estará en el intervalo',i1)\n",
    "print('Media calculada por estratificado crudo de la edad del cliente' ,media_edades)\n",
    "print('El porcentaje de error entre la media real y la media estimada con estratificado fue de', round(error*100,2),'%')"
   ]
  },
  {
   "cell_type": "markdown",
   "metadata": {},
   "source": [
    "### Conclusiones Nodo 2.\n",
    "\n",
    "Al comparar los errores porcentuales de Montecarlo crudo con distribución gamma y Montecarlo con reducción de varianza al utilizar distribución gamma, podemos concluir que efectivamente el primero presenta un menor valor, por lo que es el óptimo.\n",
    "\n",
    "Observando las distribuciones de Gamma con metodo Montecarlo crudo y el KDE, se concluye que el menor error está en Gamma con metodo Montecarlo crudo.\n",
    "\n",
    "En conclusión despues de simular por diferntes métodos la edad de los clientes se puede decir que se deberá ofrecer tarjetas de crédito a aquellos que se encuentren entre los 46 y 47 años de edad."
   ]
  },
  {
   "cell_type": "markdown",
   "metadata": {},
   "source": [
    "### Nodo 3. Número de transacciónes al año\n",
    "\n",
    "En el estudio de nuestra tercera variable se tiene como objeto a los datos de 'Número de transacciones al año' que muestra como su nombre lo dice cuantas transacciones con su tarjeta de crédito tienen los clientes en promedio, esto sirve de guía para el banco, para así comprender el estado de la institución y el flujo de dinero que tenga la misma, así como ayudará a conocer más certeramente la liquidez con la que cuenta anualmente."
   ]
  },
  {
   "cell_type": "code",
   "execution_count": 79,
   "metadata": {},
   "outputs": [
    {
     "data": {
      "text/plain": [
       "Text(0.5, 1.0, 'Número de transacciones')"
      ]
     },
     "execution_count": 79,
     "metadata": {},
     "output_type": "execute_result"
    },
    {
     "data": {
      "image/png": "[encoded data removed]",
      "text/plain": [
       "<Figure size 432x288 with 1 Axes>"
      ]
     },
     "metadata": {
      "needs_background": "light"
     },
     "output_type": "display_data"
    }
   ],
   "source": [
    "#Histograma sencillo para tener una visualización más clara de como se distribuyen los datos\n",
    "transaccion =  data['Total_Trans_Ct']\n",
    "plt.hist(transaccion)\n",
    "plt.title(\"Número de transacciones\")"
   ]
  },
  {
   "cell_type": "code",
   "execution_count": 143,
   "metadata": {},
   "outputs": [
    {
     "name": "stdout",
     "output_type": "stream",
     "text": [
      "{'bandwidth': 4.413793103448276}\n"
     ]
    }
   ],
   "source": [
    "from sklearn.model_selection import GridSearchCV\n",
    "grid = GridSearchCV(KernelDensity(),\n",
    "                    {'bandwidth': np.linspace(1, 10, 30)},\n",
    "                    cv=20) \n",
    "grid.fit(np.array(transaccion)[:, None])\n",
    "print(grid.best_params_)"
   ]
  },
  {
   "cell_type": "code",
   "execution_count": 81,
   "metadata": {},
   "outputs": [
    {
     "data": {
      "text/plain": [
       "<function __main__.kde_scipy_3.<locals>.<lambda>(x_grid)>"
      ]
     },
     "execution_count": 81,
     "metadata": {},
     "output_type": "execute_result"
    }
   ],
   "source": [
    "# Debido al ajuste de parámetros, nos indica un bandwidth = 4.41\n",
    "trans = kde_scipy_3(data['Total_Trans_Ct'])\n",
    "trans"
   ]
  },
  {
   "cell_type": "code",
   "execution_count": 82,
   "metadata": {
    "scrolled": false
   },
   "outputs": [
    {
     "data": {
      "image/png": "[encoded data removed]",
      "text/plain": [
       "<Figure size 432x288 with 1 Axes>"
      ]
     },
     "metadata": {
      "needs_background": "light"
     },
     "output_type": "display_data"
    }
   ],
   "source": [
    "x_trans = np.arange(10,139,1)\n",
    "plt.figure()\n",
    "plt.plot(x_trans,trans(x_trans))\n",
    "plt.hist(transaccion,bins =20, density = True)\n",
    "plt.title('Histograma KDE')\n",
    "plt.show()"
   ]
  },
  {
   "cell_type": "code",
   "execution_count": 83,
   "metadata": {},
   "outputs": [
    {
     "data": {
      "text/plain": [
       "[<matplotlib.lines.Line2D at 0x26949ba78e0>]"
      ]
     },
     "execution_count": 83,
     "metadata": {},
     "output_type": "execute_result"
    },
    {
     "data": {
      "image/png": "[encoded data removed]",
      "text/plain": [
       "<Figure size 432x288 with 1 Axes>"
      ]
     },
     "metadata": {
      "needs_background": "light"
     },
     "output_type": "display_data"
    }
   ],
   "source": [
    "#Visualización el punto máximo en comparación con el ajuste\n",
    "f = trans\n",
    "x = np.arange(10,139,0.1)\n",
    "\n",
    "max_trans = f(optimize.fmin(lambda x:-f(x),0,disp=False))\n",
    "\n",
    "plt.plot(76,max_trans,'x',lw = 10)\n",
    "\n",
    "plt.plot(x,trans(x))"
   ]
  },
  {
   "cell_type": "markdown",
   "metadata": {},
   "source": [
    "#### Simulación Montecarlo CRUDO - Aceptación y Rechazo"
   ]
  },
  {
   "cell_type": "code",
   "execution_count": 84,
   "metadata": {},
   "outputs": [],
   "source": [
    "np.random.seed(555)\n",
    "N = 10000\n",
    "var_aleatorias_montecarlo_trans = acep_rechazo(f,max_trans,N,138,1)"
   ]
  },
  {
   "cell_type": "code",
   "execution_count": 85,
   "metadata": {},
   "outputs": [
    {
     "name": "stdout",
     "output_type": "stream",
     "text": [
      "La media de las variables aleatorias es de 63.90499887675486\n",
      "La media real de nuestros datos es de 64.85869457884863\n"
     ]
    }
   ],
   "source": [
    "print('La media de las variables aleatorias es de', var_aleatorias_montecarlo_trans.mean())\n",
    "print('La media real de nuestros datos es de', data['Total_Trans_Ct'].mean())"
   ]
  },
  {
   "cell_type": "code",
   "execution_count": 86,
   "metadata": {},
   "outputs": [
    {
     "data": {
      "image/png": "[encoded data removed]",
      "text/plain": [
       "<Figure size 432x288 with 1 Axes>"
      ]
     },
     "metadata": {
      "needs_background": "light"
     },
     "output_type": "display_data"
    }
   ],
   "source": [
    "x = np.arange(10,139,1)\n",
    "plt.figure()\n",
    "plt.plot(x,f(x))\n",
    "plt.hist(var_aleatorias_montecarlo_trans, bins = 30, density = True)\n",
    "plt.title(\"Monte Carlo con KDE\")\n",
    "plt.show()"
   ]
  },
  {
   "cell_type": "markdown",
   "metadata": {},
   "source": [
    "#### Intervalo de Confianza y Error Porcentual"
   ]
  },
  {
   "cell_type": "code",
   "execution_count": 87,
   "metadata": {},
   "outputs": [
    {
     "name": "stdout",
     "output_type": "stream",
     "text": [
      "Con una confianza de 95% la media por montecarlo crudo estará en el intervalo (63.416360695306935, 64.39363705820278)\n",
      "Media calculada por montecarlo crudo es de 63.90499887675486\n",
      "El porcentaje de error entre la media real y la media estimada con montecarlo fue de 1.49 %\n"
     ]
    }
   ],
   "source": [
    "np.random.seed(555)\n",
    "\n",
    "# Nivel de confianza\n",
    "confianza = 0.95\n",
    "\n",
    "X = var_aleatorias_montecarlo_trans\n",
    "i1 = st.norm.interval(confianza, loc=np.mean(X), scale=st.sem(X))\n",
    "media_trans = np.mean(X)\n",
    "error = abs(np.array(data['Total_Trans_Ct'].mean() - media_trans)/media_trans)\n",
    "\n",
    "print('Con una confianza de 95% la media por montecarlo crudo estará en el intervalo',(i1))\n",
    "print('Media calculada por montecarlo crudo es de' ,media_trans)\n",
    "print('El porcentaje de error entre la media real y la media estimada con montecarlo fue de', round(error*100,2),'%')"
   ]
  },
  {
   "cell_type": "markdown",
   "metadata": {},
   "source": [
    "#### Probando ajuste de distribuciones hipotéticas"
   ]
  },
  {
   "cell_type": "code",
   "execution_count": 88,
   "metadata": {},
   "outputs": [
    {
     "data": {
      "image/png": "[encoded data removed]",
      "text/plain": [
       "<Figure size 432x288 with 1 Axes>"
      ]
     },
     "metadata": {
      "needs_background": "light"
     },
     "output_type": "display_data"
    }
   ],
   "source": [
    "y, x ,_ = plt.hist(transaccion, bins=18, density=True, label='Data')\n",
    "x = x[1:]\n",
    "\n",
    "dist = [d for d in dir(st) if isinstance(getattr(st,d), getattr(st, 'rv_continuous'))]\n",
    "dist = ['burr', 'burr12','crystalball', 'dweibull', 'gamma','gausshyper', 'loggamma', 'mielke', 'norm']\n",
    "error = pd.DataFrame(index=dist, columns=['error'])\n",
    "\n",
    "for d in dist:\n",
    "    params= getattr(st,d).fit(transaccion)\n",
    "    y_hat = getattr(st, d)(*params).pdf(x)\n",
    "    error.loc[d]= ((y-y_hat)**2).mean()\n",
    "    plt.plot(x,y_hat, label=d)\n",
    "    \n",
    "plt.legend()\n",
    "plt.title(\"Distribuciones hipóteticas\")\n",
    "plt.show()"
   ]
  },
  {
   "cell_type": "code",
   "execution_count": 58,
   "metadata": {},
   "outputs": [
    {
     "data": {
      "text/html": [
       "<div>\n",
       "<style scoped>\n",
       "    .dataframe tbody tr th:only-of-type {\n",
       "        vertical-align: middle;\n",
       "    }\n",
       "\n",
       "    .dataframe tbody tr th {\n",
       "        vertical-align: top;\n",
       "    }\n",
       "\n",
       "    .dataframe thead th {\n",
       "        text-align: right;\n",
       "    }\n",
       "</style>\n",
       "<table border=\"1\" class=\"dataframe\">\n",
       "  <thead>\n",
       "    <tr style=\"text-align: right;\">\n",
       "      <th></th>\n",
       "      <th>burr</th>\n",
       "      <th>mielke</th>\n",
       "      <th>loggamma</th>\n",
       "      <th>dweibull</th>\n",
       "      <th>norm</th>\n",
       "      <th>crystalball</th>\n",
       "      <th>burr12</th>\n",
       "      <th>gausshyper</th>\n",
       "      <th>gamma</th>\n",
       "    </tr>\n",
       "  </thead>\n",
       "  <tbody>\n",
       "    <tr>\n",
       "      <th>error</th>\n",
       "      <td>6.28964e-06</td>\n",
       "      <td>6.30599e-06</td>\n",
       "      <td>7.9207e-06</td>\n",
       "      <td>7.9277e-06</td>\n",
       "      <td>8.16964e-06</td>\n",
       "      <td>8.16964e-06</td>\n",
       "      <td>8.3195e-06</td>\n",
       "      <td>8.63956e-06</td>\n",
       "      <td>9.73252e-06</td>\n",
       "    </tr>\n",
       "  </tbody>\n",
       "</table>\n",
       "</div>"
      ],
      "text/plain": [
       "              burr       mielke    loggamma    dweibull         norm  \\\n",
       "error  6.28964e-06  6.30599e-06  7.9207e-06  7.9277e-06  8.16964e-06   \n",
       "\n",
       "       crystalball      burr12   gausshyper        gamma  \n",
       "error  8.16964e-06  8.3195e-06  8.63956e-06  9.73252e-06  "
      ]
     },
     "execution_count": 58,
     "metadata": {},
     "output_type": "execute_result"
    }
   ],
   "source": [
    "error=error.sort_values('error')\n",
    "error.T"
   ]
  },
  {
   "cell_type": "code",
   "execution_count": 53,
   "metadata": {},
   "outputs": [
    {
     "name": "stdout",
     "output_type": "stream",
     "text": [
      "El error del kernel elegido es el de burr con valor minimo de error    0.000006\n",
      "dtype: float64\n"
     ]
    }
   ],
   "source": [
    "print('El error del kernel elegido es el de burr con valor minimo de',error.min())"
   ]
  },
  {
   "cell_type": "code",
   "execution_count": 23,
   "metadata": {},
   "outputs": [
    {
     "name": "stdout",
     "output_type": "stream",
     "text": [
      "Valor de chi cuadrado librería =  Power_divergenceResult(statistic=11.062332992435971, pvalue=0.8533053184069637)\n",
      "Estadístico de chi_cuadrado =  27.58711163827534\n"
     ]
    }
   ],
   "source": [
    "params = st.burr.fit(x)\n",
    "pi = st.burr.pdf(x,*params)\n",
    "# Cálculo de la esperanza usando la expresión teórica\n",
    "Ei = x*pi\n",
    "\n",
    "# Cálculo teórico de la chi cuadrada\n",
    "#x2 = np.sum(list(map(lambda Ei, obs_i:(obs_i - Ei)**2 / Ei, Ei, y)))\n",
    "#print('Valor de chi cuadrado teorico  = ', x2)\n",
    "\n",
    "# Cálculo usando la librería estadística de la chi cuadrada\n",
    "X2 = st.chisquare(y, Ei)\n",
    "print('Valor de chi cuadrado librería = ', X2)\n",
    "\n",
    "# Cálculo de Grados de libertad del estadístico\n",
    "p = 2 # Parámetros estimados con los datos\n",
    "m = 20-p-1 # grados de libertad\n",
    "\n",
    "Chi_est = st.chi2.ppf(q=0.95, df=m)\n",
    "print('Estadístico de chi_cuadrado = ', Chi_est)"
   ]
  },
  {
   "cell_type": "markdown",
   "metadata": {},
   "source": [
    "Aceptamos la $H_0$ ya que el valor de chi cuadrado es menor al estadístico de chi cuadrado por lo tanto, no se puede rechazar que los datos se distribuyen como una función burr."
   ]
  },
  {
   "cell_type": "markdown",
   "metadata": {},
   "source": [
    "#### Prueba de cuantil-cuantil"
   ]
  },
  {
   "cell_type": "code",
   "execution_count": 24,
   "metadata": {
    "scrolled": true
   },
   "outputs": [
    {
     "data": {
      "image/png": "[encoded data removed]",
      "text/plain": [
       "<Figure size 576x720 with 2 Axes>"
      ]
     },
     "metadata": {
      "needs_background": "light"
     },
     "output_type": "display_data"
    }
   ],
   "source": [
    "fig, ax = plt.subplots(2,1, figsize=(8,10))\n",
    "fig.tight_layout(pad=3.0)\n",
    "\n",
    "y, x, _ = ax[0].hist(data['Total_Trans_Ct'], bins=20, density=True, label='Histograma mediciones')\n",
    "dist = 'burr'\n",
    "params = getattr(st, dist).fit(data['Total_Trans_Ct'])\n",
    "y_hat = getattr(st, dist).pdf(x, *params)\n",
    "ax[0].plot(x, y_hat,'r--', label='Distribución ajustada')\n",
    "ax[0].set_ylabel('Probability')\n",
    "ax[0].grid()\n",
    "\n",
    "grap1 = sm.qqplot(data['Total_Trans_Ct'], dist=getattr(st, dist), line='q', fit=True, ax=ax[1])\n",
    "ax[1].grid()"
   ]
  },
  {
   "cell_type": "markdown",
   "metadata": {},
   "source": [
    "Si bien esta fue la distribución que más se acercó a los datos con menor error, tenemos algo de sesgo mayormente en las colas."
   ]
  },
  {
   "cell_type": "markdown",
   "metadata": {},
   "source": [
    "### Prueba de Kolmogorov"
   ]
  },
  {
   "cell_type": "code",
   "execution_count": 136,
   "metadata": {},
   "outputs": [
    {
     "data": {
      "text/plain": [
       "(64.85869457884863, 23.471411510261287)"
      ]
     },
     "execution_count": 136,
     "metadata": {},
     "output_type": "execute_result"
    }
   ],
   "source": [
    "media, desviacion = st.norm.fit(transaccion)\n",
    "media, desviacion"
   ]
  },
  {
   "cell_type": "code",
   "execution_count": 137,
   "metadata": {},
   "outputs": [
    {
     "data": {
      "text/plain": [
       "(0.059071588575080325, 3.688188861902678e-31)"
      ]
     },
     "execution_count": 137,
     "metadata": {},
     "output_type": "execute_result"
    }
   ],
   "source": [
    "d, pvalor = st.kstest(transaccion,\"norm\",args=(media,desviacion))\n",
    "d, pvalor"
   ]
  },
  {
   "cell_type": "markdown",
   "metadata": {},
   "source": [
    "Con la prueba de kolmogorov que estudia si la distribución de los datos tiene una forma normal con media = 0 y desviación = 1, tenemos como resultado una p-value de 0, que con una confianza del 95% es considerada pequeña por lo tanto rechazamos la $H_0$. Esto tiene algo de sentido ya que como observamos anteriormente nuestros datos tienen una media 64 y una desviación de 23. Por lo que se concluye que NO se tiene una forma normal.\n",
    "\n",
    "> $H_0$: Los datos se distribuye como  una función de distribución normal\n",
    "\n",
    "> $H_a$: Los datos no se distribuyen como normal"
   ]
  },
  {
   "cell_type": "markdown",
   "metadata": {},
   "source": [
    "### Montecarlo Crudo"
   ]
  },
  {
   "cell_type": "markdown",
   "metadata": {},
   "source": [
    "#### Simulación de la distribución Burr"
   ]
  },
  {
   "cell_type": "code",
   "execution_count": 64,
   "metadata": {},
   "outputs": [
    {
     "data": {
      "text/plain": [
       "(64.31769547861262, 1000)"
      ]
     },
     "execution_count": 64,
     "metadata": {},
     "output_type": "execute_result"
    }
   ],
   "source": [
    "samp = st.burr.rvs(*params, size=1000) \n",
    "samp.mean(), len(samp)"
   ]
  },
  {
   "cell_type": "code",
   "execution_count": 65,
   "metadata": {},
   "outputs": [
    {
     "name": "stdout",
     "output_type": "stream",
     "text": [
      "La media de las variables aleatorias con distribución BURR es de 64.31769547861262\n",
      "La media real de nuestros datos es de 64.85869457884863\n"
     ]
    }
   ],
   "source": [
    "print('La media de las variables aleatorias con distribución BURR es de', samp.mean())\n",
    "print('La media real de nuestros datos es de', data['Total_Trans_Ct'].mean())"
   ]
  },
  {
   "cell_type": "markdown",
   "metadata": {},
   "source": [
    "#### Intervalo de Confianza y Error Porcentual"
   ]
  },
  {
   "cell_type": "code",
   "execution_count": 66,
   "metadata": {},
   "outputs": [
    {
     "name": "stdout",
     "output_type": "stream",
     "text": [
      "Con una confianza de 95% la media la edad del cliente por montecarlo crudo, estará en el intervalo (62.83197373000988, 65.80341722721536)\n",
      "Media calculada por montecarlo crudo de la edad media 64.31769547861262\n",
      "El porcentaje de error entre la media real y la media estimada con montecarlo fue de 0.84 %\n"
     ]
    }
   ],
   "source": [
    "np.random.seed(555)\n",
    "\n",
    "# Nivel de confianza\n",
    "confianza = 0.95\n",
    "X = samp\n",
    "i1 = st.norm.interval(confianza, loc=np.mean(X), scale=st.sem(X))\n",
    "media_trans = np.mean(X)\n",
    "error= abs(np.array(data['Total_Trans_Ct'].mean() - media_trans)/media_trans)\n",
    "\n",
    "print('Con una confianza de 95% la media del número de transacciones al año por cliente por montecarlo crudo, estará en el intervalo', i1)\n",
    "print('Media calculada por montecarlo crudo del número de transacciones al año por cliente' ,media_trans)\n",
    "print('El porcentaje de error entre la media real y la media estimada con montecarlo fue de', round(error*100,2),'%')"
   ]
  },
  {
   "cell_type": "markdown",
   "metadata": {},
   "source": [
    "### Montecarlo Estratificado"
   ]
  },
  {
   "cell_type": "markdown",
   "metadata": {},
   "source": [
    "#### Simulación Montecarlo con Metodo de reducción de varianza para Beta"
   ]
  },
  {
   "cell_type": "code",
   "execution_count": 67,
   "metadata": {},
   "outputs": [
    {
     "data": {
      "text/plain": [
       "1000"
      ]
     },
     "execution_count": 67,
     "metadata": {},
     "output_type": "execute_result"
    }
   ],
   "source": [
    "acumulada = st.burr.cdf(samp,*params)\n",
    "len(acumulada)"
   ]
  },
  {
   "cell_type": "code",
   "execution_count": 68,
   "metadata": {},
   "outputs": [
    {
     "data": {
      "text/plain": [
       "63.883704848363756"
      ]
     },
     "execution_count": 68,
     "metadata": {},
     "output_type": "execute_result"
    }
   ],
   "source": [
    "np.random.seed(555)\n",
    "#Estratificado\n",
    "N = 1000\n",
    "u = muestreo_est(N)\n",
    "funcion3 = lambda u: Gen_distr_discreta_(acumulada,samp,1000)\n",
    "media3 = np.mean(funcion3(u))\n",
    "media3"
   ]
  },
  {
   "cell_type": "markdown",
   "metadata": {},
   "source": [
    "#### Intervalo de confianza y error porcentual"
   ]
  },
  {
   "cell_type": "code",
   "execution_count": 69,
   "metadata": {},
   "outputs": [
    {
     "name": "stdout",
     "output_type": "stream",
     "text": [
      "Con una confianza de 95% la media de la edad por estratificado, estará en el intervalo (63.73656997099103, 66.73291641827545)\n",
      "Media calculada por estratificado crudo de la edad del cliente 63.883704848363756\n",
      "El porcentaje de error entre la media real y la media estimada con estratificado fue de 1.53 %\n"
     ]
    }
   ],
   "source": [
    "np.random.seed(123)\n",
    "\n",
    "# Nivel de confianza\n",
    "confianza = 0.95\n",
    "X = funcion3(u)\n",
    "\n",
    "i1 = st.norm.interval(confianza, loc=np.mean(X), scale=st.sem(X))\n",
    "\n",
    "media_trans = media3\n",
    "error= abs(np.array(data['Total_Trans_Ct'].mean() - media_trans)/media_trans)\n",
    "\n",
    "\n",
    "print('Con una confianza de 95% la media del número de transacciones al año por cliente por estratificado, estará en el intervalo',i1)\n",
    "print('Media calculada por estratificado crudo del número de transacciones al año por cliente' ,media_trans)\n",
    "print('El porcentaje de error entre la media real y la media estimada con estratificado fue de', round(error*100,2),'%')"
   ]
  },
  {
   "cell_type": "markdown",
   "metadata": {},
   "source": [
    "### Conclusiones Nodo 3. "
   ]
  },
  {
   "cell_type": "code",
   "execution_count": 62,
   "metadata": {
    "scrolled": true,
    "slideshow": {
     "slide_type": "skip"
    }
   },
   "outputs": [
    {
     "data": {
      "text/html": [
       "<div>\n",
       "<style scoped>\n",
       "    .dataframe tbody tr th:only-of-type {\n",
       "        vertical-align: middle;\n",
       "    }\n",
       "\n",
       "    .dataframe tbody tr th {\n",
       "        vertical-align: top;\n",
       "    }\n",
       "\n",
       "    .dataframe thead th {\n",
       "        text-align: right;\n",
       "    }\n",
       "</style>\n",
       "<table border=\"1\" class=\"dataframe\">\n",
       "  <thead>\n",
       "    <tr style=\"text-align: right;\">\n",
       "      <th></th>\n",
       "      <th>%</th>\n",
       "    </tr>\n",
       "  </thead>\n",
       "  <tbody>\n",
       "    <tr>\n",
       "      <th>Error KDE Crudo</th>\n",
       "      <td>1.49</td>\n",
       "    </tr>\n",
       "    <tr>\n",
       "      <th>Error Burr Crudo</th>\n",
       "      <td>0.84</td>\n",
       "    </tr>\n",
       "    <tr>\n",
       "      <th>Error Burr Estratificado</th>\n",
       "      <td>1.53</td>\n",
       "    </tr>\n",
       "  </tbody>\n",
       "</table>\n",
       "</div>"
      ],
      "text/plain": [
       "                             %\n",
       "Error KDE Crudo           1.49\n",
       "Error Burr Crudo          0.84\n",
       "Error Burr Estratificado  1.53"
      ]
     },
     "execution_count": 62,
     "metadata": {},
     "output_type": "execute_result"
    }
   ],
   "source": [
    "i=['%']\n",
    "df = pd.DataFrame(index=i, columns = ['Error KDE Crudo','Error Burr Crudo','Error Burr Estratificado'])\n",
    "df.loc[i,'Error KDE Crudo'] = 1.49\n",
    "df.loc[i,'Error Burr Crudo']= 0.84\n",
    "df.loc[i,'Error Burr Estratificado'] = 1.53\n",
    "df.T"
   ]
  },
  {
   "cell_type": "markdown",
   "metadata": {},
   "source": [
    "Al tener nuestros datos una distribución algo poco común por ser del número de transacciones que tiene cada tarjeta (considerando los distintos tipos de clientes en cuanto a edad) no se presenta una distribución como se desería, sin embargo haciendo pruebas con distintos métodos se llega a la conclusión de que por distribución Burr en el método Monte Carlo Crudo tenemos el menor error para las simulaciones de los datos. \n",
    "\n",
    "Es decir, utilizando esta distribucion y método, a base de simulaciones se puede brindar información de importancia a la institución financiera como: Se tendrán un aproximado de 64,3177 transacciones al año en toda la institución financiera en el sector de tarjetas de crédito, si cada cliente estará utilizando su tarjeta en promedio 64 veces al año habrá que implemnetar medidas de promoción del uso de las mismas e incentivos para la fluctuación de dinero, se necesitan mayores activos provinientes del cobro en tarjetas de crédito. Dicho lo anterior, podemos concluir que nuestra hipótesis inicial estaba muy lejos de lo que se pensó serían los resultados.\n",
    "\n",
    "#### Hipótesis inicial\n",
    "\n",
    ">   -  Los clientes realizan en promedio entre 120  y 150 transacciones al año."
   ]
  },
  {
   "cell_type": "markdown",
   "metadata": {},
   "source": [
    "### NODO 4. Tiempo activo"
   ]
  },
  {
   "cell_type": "markdown",
   "metadata": {},
   "source": [
    "Una institución bancaria toma decisiones entorno al comportamiento de los clientes,es decir, analiza las características de los mismos para predecir que conductas tendrán en un futuro. Al analizar el **tiempo activo**  identificaremos cuantos clientes activos tendrá la institución para que el banco tome decisiones respecto a su administración(valuación del riesgo). "
   ]
  },
  {
   "cell_type": "code",
   "execution_count": 91,
   "metadata": {},
   "outputs": [
    {
     "data": {
      "text/plain": [
       "Text(0.5, 1.0, 'Tiempo activo')"
      ]
     },
     "execution_count": 91,
     "metadata": {},
     "output_type": "execute_result"
    },
    {
     "data": {
      "image/png": "[encoded data removed]",
      "text/plain": [
       "<Figure size 432x288 with 1 Axes>"
      ]
     },
     "metadata": {
      "needs_background": "light"
     },
     "output_type": "display_data"
    }
   ],
   "source": [
    "mes = data['Meses_cuenta']\n",
    "plt.hist(mes)\n",
    "plt.title(\"Tiempo activo\")"
   ]
  },
  {
   "cell_type": "code",
   "execution_count": 147,
   "metadata": {},
   "outputs": [
    {
     "name": "stdout",
     "output_type": "stream",
     "text": [
      "{'bandwidth': 1.0}\n"
     ]
    }
   ],
   "source": [
    "from sklearn.model_selection import GridSearchCV\n",
    "grid = GridSearchCV(KernelDensity(),\n",
    "                    {'bandwidth': np.linspace(1, 10, 30)},\n",
    "                    cv=20) \n",
    "grid.fit(np.array(mes)[:, None])\n",
    "print(grid.best_params_)"
   ]
  },
  {
   "cell_type": "code",
   "execution_count": 92,
   "metadata": {},
   "outputs": [
    {
     "data": {
      "text/plain": [
       "<function __main__.kde_scipy_4.<locals>.<lambda>(x_grid)>"
      ]
     },
     "execution_count": 92,
     "metadata": {},
     "output_type": "execute_result"
    }
   ],
   "source": [
    "# Debido al ajuste de parámetros, nos indica un bandwidth = 1\n",
    "meses = kde_scipy_4(data['Meses_cuenta'])\n",
    "meses"
   ]
  },
  {
   "cell_type": "code",
   "execution_count": 93,
   "metadata": {},
   "outputs": [
    {
     "data": {
      "image/png": "[encoded data removed]",
      "text/plain": [
       "<Figure size 432x288 with 1 Axes>"
      ]
     },
     "metadata": {
      "needs_background": "light"
     },
     "output_type": "display_data"
    }
   ],
   "source": [
    "x_meses = np.arange(13,56,1)\n",
    "plt.figure()\n",
    "plt.plot(x_meses,meses(x_meses))\n",
    "plt.hist(mes,bins =20, density = True)\n",
    "plt.title(\"KDE\")\n",
    "plt.show()"
   ]
  },
  {
   "cell_type": "code",
   "execution_count": 94,
   "metadata": {},
   "outputs": [
    {
     "data": {
      "text/plain": [
       "[<matplotlib.lines.Line2D at 0x26949399e20>]"
      ]
     },
     "execution_count": 94,
     "metadata": {},
     "output_type": "execute_result"
    },
    {
     "data": {
      "image/png": "[encoded data removed]",
      "text/plain": [
       "<Figure size 432x288 with 1 Axes>"
      ]
     },
     "metadata": {
      "needs_background": "light"
     },
     "output_type": "display_data"
    }
   ],
   "source": [
    "f = meses\n",
    "x = np.arange(13,56,1)\n",
    "\n",
    "max_meses = f(optimize.fmin(lambda x:-f(x),0,disp=False))\n",
    "\n",
    "plt.plot(36,max_meses,'x',lw = 10)\n",
    "\n",
    "plt.plot(x,meses(x))"
   ]
  },
  {
   "cell_type": "markdown",
   "metadata": {},
   "source": [
    "#### Simulación Montecarlo CRUDO - Aceptación y Rechazo"
   ]
  },
  {
   "cell_type": "code",
   "execution_count": 95,
   "metadata": {},
   "outputs": [],
   "source": [
    "np.random.seed(555)\n",
    "N = 10000\n",
    "var_aleatorias_montecarlo_meses = acep_rechazo(f,max_meses,N,75,1)"
   ]
  },
  {
   "cell_type": "code",
   "execution_count": 96,
   "metadata": {},
   "outputs": [
    {
     "name": "stdout",
     "output_type": "stream",
     "text": [
      "La media de las variables aleatorias es de 35.91794486963344\n",
      "La media real de nuestros datos es de 35.928409203120374\n"
     ]
    }
   ],
   "source": [
    "print('La media de las variables aleatorias es de', var_aleatorias_montecarlo_meses.mean())\n",
    "print('La media real de nuestros datos es de', data['Meses_cuenta'].mean())"
   ]
  },
  {
   "cell_type": "code",
   "execution_count": 97,
   "metadata": {},
   "outputs": [
    {
     "data": {
      "image/png": "[encoded data removed]",
      "text/plain": [
       "<Figure size 432x288 with 1 Axes>"
      ]
     },
     "metadata": {
      "needs_background": "light"
     },
     "output_type": "display_data"
    }
   ],
   "source": [
    "x = np.arange(13,56,1)\n",
    "plt.figure()\n",
    "plt.plot(x,f(x))\n",
    "plt.hist(var_aleatorias_montecarlo_meses, bins = 30, density = True)\n",
    "plt.title(\"Monte Carlo con KDE\")\n",
    "plt.show()"
   ]
  },
  {
   "cell_type": "markdown",
   "metadata": {},
   "source": [
    "#### Intervalo de Confianza y Error Porcentual"
   ]
  },
  {
   "cell_type": "code",
   "execution_count": 71,
   "metadata": {},
   "outputs": [
    {
     "name": "stdout",
     "output_type": "stream",
     "text": [
      "Con una confianza de 95% la media por montecarlo crudo estará en el intervalo (35.76042298795652, 36.07546675131036)\n",
      "Media calculada por montecarlo crudo es de 35.91794486963344\n",
      "El porcentaje de error entre la media real y la media estimada con montecarlo fue de 0.03 %\n"
     ]
    }
   ],
   "source": [
    "np.random.seed(555)\n",
    "\n",
    "# Nivel de confianza\n",
    "confianza = 0.95\n",
    "\n",
    "X = var_aleatorias_montecarlo_meses\n",
    "i1 = st.norm.interval(confianza, loc=np.mean(X), scale=st.sem(X))\n",
    "media_meses = np.mean(X)\n",
    "error = abs(np.array(data['Meses_cuenta'].mean() - media_meses)/media_meses)\n",
    "\n",
    "print('Con una confianza de 95% la media por montecarlo crudo estará en el intervalo',(i1))\n",
    "print('Media calculada por montecarlo crudo es de' ,media_meses)\n",
    "print('El porcentaje de error entre la media real y la media estimada con montecarlo fue de', round(error*100,2),'%')"
   ]
  },
  {
   "cell_type": "markdown",
   "metadata": {},
   "source": [
    "#### Probando ajuste de distribuciones hipotéticas"
   ]
  },
  {
   "cell_type": "code",
   "execution_count": 100,
   "metadata": {},
   "outputs": [
    {
     "data": {
      "image/png": "[encoded data removed]",
      "text/plain": [
       "<Figure size 432x288 with 1 Axes>"
      ]
     },
     "metadata": {
      "needs_background": "light"
     },
     "output_type": "display_data"
    }
   ],
   "source": [
    "y, x ,_ = plt.hist(mes, bins=18, density=True, label='Data')\n",
    "x = x[1:]\n",
    "\n",
    "dist = [d for d in dir(st) if isinstance(getattr(st,d), getattr(st, 'rv_continuous'))]\n",
    "dist = ['alpha','beta', 'betaprime', 'burr', 'burr12', 'dgamma', 'fisk', 'foldcauchy', 'genlogistic', 'gennorm', 'hypsecant',\n",
    " 'johnsonsu', 'laplace','logistic', 'loglaplace', 'mielke','tukeylambda','vonmises_line']\n",
    "error = pd.DataFrame(index=dist, columns=['error'])\n",
    "\n",
    "for d in dist:\n",
    "    params= getattr(st,d).fit(mes)\n",
    "    y_hat = getattr(st, d)(*params).pdf(x)\n",
    "    error.loc[d]= ((y-y_hat)**2).mean()\n",
    "    plt.plot(x,y_hat, label=d)\n",
    "    \n",
    "plt.legend()\n",
    "plt.title(\"Distribuciones hipotéticas\")\n",
    "plt.show()"
   ]
  },
  {
   "cell_type": "code",
   "execution_count": 73,
   "metadata": {},
   "outputs": [
    {
     "data": {
      "text/html": [
       "<div>\n",
       "<style scoped>\n",
       "    .dataframe tbody tr th:only-of-type {\n",
       "        vertical-align: middle;\n",
       "    }\n",
       "\n",
       "    .dataframe tbody tr th {\n",
       "        vertical-align: top;\n",
       "    }\n",
       "\n",
       "    .dataframe thead th {\n",
       "        text-align: right;\n",
       "    }\n",
       "</style>\n",
       "<table border=\"1\" class=\"dataframe\">\n",
       "  <thead>\n",
       "    <tr style=\"text-align: right;\">\n",
       "      <th></th>\n",
       "      <th>dgamma</th>\n",
       "      <th>gennorm</th>\n",
       "      <th>laplace</th>\n",
       "      <th>foldcauchy</th>\n",
       "      <th>loglaplace</th>\n",
       "      <th>hypsecant</th>\n",
       "      <th>johnsonsu</th>\n",
       "      <th>genlogistic</th>\n",
       "      <th>mielke</th>\n",
       "      <th>burr</th>\n",
       "      <th>tukeylambda</th>\n",
       "      <th>fisk</th>\n",
       "      <th>logistic</th>\n",
       "      <th>vonmises_line</th>\n",
       "      <th>burr12</th>\n",
       "      <th>beta</th>\n",
       "      <th>alpha</th>\n",
       "      <th>betaprime</th>\n",
       "    </tr>\n",
       "  </thead>\n",
       "  <tbody>\n",
       "    <tr>\n",
       "      <th>error</th>\n",
       "      <td>0.000185846</td>\n",
       "      <td>0.000190347</td>\n",
       "      <td>0.000202986</td>\n",
       "      <td>0.000216053</td>\n",
       "      <td>0.000227123</td>\n",
       "      <td>0.000252431</td>\n",
       "      <td>0.000262328</td>\n",
       "      <td>0.000265401</td>\n",
       "      <td>0.000266269</td>\n",
       "      <td>0.000266269</td>\n",
       "      <td>0.000266542</td>\n",
       "      <td>0.000270272</td>\n",
       "      <td>0.000270273</td>\n",
       "      <td>0.000281992</td>\n",
       "      <td>0.000288865</td>\n",
       "      <td>0.000297124</td>\n",
       "      <td>0.000323971</td>\n",
       "      <td>0.000335771</td>\n",
       "    </tr>\n",
       "  </tbody>\n",
       "</table>\n",
       "</div>"
      ],
      "text/plain": [
       "            dgamma      gennorm      laplace   foldcauchy   loglaplace  \\\n",
       "error  0.000185846  0.000190347  0.000202986  0.000216053  0.000227123   \n",
       "\n",
       "         hypsecant    johnsonsu  genlogistic       mielke         burr  \\\n",
       "error  0.000252431  0.000262328  0.000265401  0.000266269  0.000266269   \n",
       "\n",
       "       tukeylambda         fisk     logistic vonmises_line       burr12  \\\n",
       "error  0.000266542  0.000270272  0.000270273   0.000281992  0.000288865   \n",
       "\n",
       "              beta        alpha    betaprime  \n",
       "error  0.000297124  0.000323971  0.000335771  "
      ]
     },
     "execution_count": 73,
     "metadata": {},
     "output_type": "execute_result"
    }
   ],
   "source": [
    "error=error.sort_values('error')\n",
    "error.T"
   ]
  },
  {
   "cell_type": "code",
   "execution_count": 74,
   "metadata": {},
   "outputs": [
    {
     "name": "stdout",
     "output_type": "stream",
     "text": [
      "El error del kernel elegido es el de dgamma con valor minimo de error    0.000186\n",
      "dtype: float64\n"
     ]
    }
   ],
   "source": [
    "print('El error del kernel elegido es el de dgamma con valor minimo de',error.min())"
   ]
  },
  {
   "cell_type": "code",
   "execution_count": 75,
   "metadata": {},
   "outputs": [
    {
     "name": "stdout",
     "output_type": "stream",
     "text": [
      "Valor de chi cuadrado librería =  Power_divergenceResult(statistic=12.89796447230151, pvalue=0.7429894452205448)\n",
      "Estadístico de chi_cuadrado =  27.58711163827534\n"
     ]
    }
   ],
   "source": [
    "params = st.dgamma.fit(x)\n",
    "pi = st.dgamma.pdf(x,*params)\n",
    "# Cálculo de la esperanza usando la expresión teórica\n",
    "Ei = x*pi\n",
    "\n",
    "# Cálculo usando la librería estadística de la chi cuadrada\n",
    "X2 = st.chisquare(y, Ei)\n",
    "print('Valor de chi cuadrado librería = ', X2)\n",
    "\n",
    "# Cálculo de Grados de libertad del estadístico\n",
    "p = 2 # Parámetros estimados con los datos\n",
    "m = 20-p-1 # grados de libertad\n",
    "\n",
    "Chi_est = st.chi2.ppf(q=0.95, df=m)\n",
    "print('Estadístico de chi_cuadrado = ', Chi_est)"
   ]
  },
  {
   "cell_type": "markdown",
   "metadata": {},
   "source": [
    "Aceptamos la $H_0$ ya que el valor de chi cuadrado es menor al estadístico de chi cuadrado por lo tanto, no se puede rechazar que los datos se distribuyen como una función Dgamma."
   ]
  },
  {
   "cell_type": "markdown",
   "metadata": {},
   "source": [
    "#### Prueba de cuantil-cuantil"
   ]
  },
  {
   "cell_type": "code",
   "execution_count": 76,
   "metadata": {
    "scrolled": true
   },
   "outputs": [
    {
     "data": {
      "image/png": "[encoded data removed]",
      "text/plain": [
       "<Figure size 576x720 with 2 Axes>"
      ]
     },
     "metadata": {
      "needs_background": "light"
     },
     "output_type": "display_data"
    }
   ],
   "source": [
    "fig, ax = plt.subplots(2,1, figsize=(8,10))\n",
    "fig.tight_layout(pad=3.0)\n",
    "\n",
    "y, x, _ = ax[0].hist(data['Meses_cuenta'], bins=20, density=True, label='Histograma mediciones')\n",
    "dist = 'dgamma'\n",
    "params = getattr(st, dist).fit(data['Meses_cuenta'])\n",
    "y_hat = getattr(st, dist).pdf(x, *params)\n",
    "ax[0].plot(x, y_hat,'r--', label='Distribución ajustada')\n",
    "ax[0].set_ylabel('Probability')\n",
    "ax[0].grid()\n",
    "\n",
    "grap1 = sm.qqplot(data['Meses_cuenta'], dist=getattr(st, dist), line='q', fit=True, ax=ax[1])\n",
    "ax[1].grid()"
   ]
  },
  {
   "cell_type": "markdown",
   "metadata": {},
   "source": [
    "### Prueba de Kolmogorov"
   ]
  },
  {
   "cell_type": "code",
   "execution_count": 77,
   "metadata": {},
   "outputs": [
    {
     "data": {
      "text/plain": [
       "(35.928409203120374, 7.986022008096456)"
      ]
     },
     "execution_count": 77,
     "metadata": {},
     "output_type": "execute_result"
    }
   ],
   "source": [
    "media, desviacion = st.norm.fit(mes)\n",
    "media, desviacion"
   ]
  },
  {
   "cell_type": "code",
   "execution_count": 78,
   "metadata": {},
   "outputs": [
    {
     "data": {
      "text/plain": [
       "(0.12814426186820965, 1.9642557899507426e-145)"
      ]
     },
     "execution_count": 78,
     "metadata": {},
     "output_type": "execute_result"
    }
   ],
   "source": [
    "d, pvalor = st.kstest(mes,\"norm\",args=(media,desviacion))\n",
    "d, pvalor"
   ]
  },
  {
   "cell_type": "markdown",
   "metadata": {},
   "source": [
    "Con la prueba de kolmogorov que estudia si la distribución de los datos tiene una forma normal con media = 0 y desviación = 1, tenemos como resultado una p-value de 0, que con una confianza del 95% es considerada pequeña por lo tanto rechazamos la $H_0$. Esto tiene algo de sentido ya que como observamos anteriormente nuestros datos tienen una media 35 y una desviación de 7. Por lo que se concluye que NO se tiene una forma normal. Si bien la forma de distribución de los datos tiene algo parecido a una forma normal, la media y la distribución son distintas y se continúa probando la distribución dgamma\n",
    "\n",
    "> $H_0$: Los datos se distribuye como  una función de distribución normal\n",
    "\n",
    "> $H_a$: Los datos no se distribuyen como normal"
   ]
  },
  {
   "cell_type": "markdown",
   "metadata": {},
   "source": [
    "### Montecarlo Crudo"
   ]
  },
  {
   "cell_type": "markdown",
   "metadata": {},
   "source": [
    "#### Simulación de la distribución dgamma"
   ]
  },
  {
   "cell_type": "code",
   "execution_count": 79,
   "metadata": {},
   "outputs": [
    {
     "data": {
      "text/plain": [
       "(35.898266841313266, 1000)"
      ]
     },
     "execution_count": 79,
     "metadata": {},
     "output_type": "execute_result"
    }
   ],
   "source": [
    "samp = st.dgamma.rvs(*params, size=1000) \n",
    "samp.mean(), len(samp)"
   ]
  },
  {
   "cell_type": "code",
   "execution_count": 80,
   "metadata": {},
   "outputs": [
    {
     "name": "stdout",
     "output_type": "stream",
     "text": [
      "La media de las variables aleatorias con distribución DGAMMA es de 35.898266841313266\n",
      "La media real de nuestros datos es de 35.928409203120374\n"
     ]
    }
   ],
   "source": [
    "print('La media de las variables aleatorias con distribución DGAMMA es de', samp.mean())\n",
    "print('La media real de nuestros datos es de', data['Meses_cuenta'].mean())"
   ]
  },
  {
   "cell_type": "markdown",
   "metadata": {},
   "source": [
    "#### Intervalo de Confianza y Error Porcentual"
   ]
  },
  {
   "cell_type": "code",
   "execution_count": 81,
   "metadata": {},
   "outputs": [
    {
     "name": "stdout",
     "output_type": "stream",
     "text": [
      "Con una confianza de 95% la media la edad del cliente por montecarlo crudo, estará en el intervalo (35.385152337817615, 36.411381344808916)\n",
      "Media calculada por montecarlo crudo de la edad media 35.898266841313266\n",
      "El porcentaje de error entre la media real y la media estimada con montecarlo fue de 0.08 %\n"
     ]
    }
   ],
   "source": [
    "np.random.seed(555)\n",
    "\n",
    "# Nivel de confianza\n",
    "confianza = 0.95\n",
    "X = samp\n",
    "i1 = st.norm.interval(confianza, loc=np.mean(X), scale=st.sem(X))\n",
    "media_meses = np.mean(X)\n",
    "error= abs(np.array(data['Meses_cuenta'].mean() - media_meses)/media_meses)\n",
    "\n",
    "print('Con una confianza de 95% la media la edad del cliente por montecarlo crudo, estará en el intervalo', i1)\n",
    "print('Media calculada por montecarlo crudo de la edad media' ,media_meses)\n",
    "print('El porcentaje de error entre la media real y la media estimada con montecarlo fue de', round(error*100,2),'%')"
   ]
  },
  {
   "cell_type": "markdown",
   "metadata": {},
   "source": [
    "### Montecarlo Estratificado"
   ]
  },
  {
   "cell_type": "markdown",
   "metadata": {},
   "source": [
    "#### Simulación Montecarlo con Metodo de reducción de varianza para Beta"
   ]
  },
  {
   "cell_type": "code",
   "execution_count": 82,
   "metadata": {},
   "outputs": [
    {
     "data": {
      "text/plain": [
       "1000"
      ]
     },
     "execution_count": 82,
     "metadata": {},
     "output_type": "execute_result"
    }
   ],
   "source": [
    "acumulada = st.dgamma.cdf(samp,*params)\n",
    "len(acumulada)"
   ]
  },
  {
   "cell_type": "code",
   "execution_count": 83,
   "metadata": {},
   "outputs": [
    {
     "data": {
      "text/plain": [
       "35.714778510969076"
      ]
     },
     "execution_count": 83,
     "metadata": {},
     "output_type": "execute_result"
    }
   ],
   "source": [
    "np.random.seed(555)\n",
    "#Estratificado\n",
    "N = 1000\n",
    "u = muestreo_est(N)\n",
    "funcion4 = lambda u: Gen_distr_discreta_(acumulada,samp,1000)\n",
    "media4 = np.mean(funcion4(u))\n",
    "media4"
   ]
  },
  {
   "cell_type": "markdown",
   "metadata": {},
   "source": [
    "#### Intervalo de confianza y error porcentual"
   ]
  },
  {
   "cell_type": "code",
   "execution_count": 84,
   "metadata": {},
   "outputs": [
    {
     "name": "stdout",
     "output_type": "stream",
     "text": [
      "Con una confianza de 95% la media de la edad por estratificado, estará en el intervalo (35.73693202954386, 36.71183381024613)\n",
      "Media calculada por estratificado crudo de la edad del cliente 35.714778510969076\n",
      "El porcentaje de error entre la media real y la media estimada con estratificado fue de 0.6 %\n"
     ]
    }
   ],
   "source": [
    "np.random.seed(123)\n",
    "\n",
    "# Nivel de confianza\n",
    "confianza = 0.95\n",
    "X = funcion4(u)\n",
    "\n",
    "i1 = st.norm.interval(confianza, loc=np.mean(X), scale=st.sem(X))\n",
    "\n",
    "media_meses = media4\n",
    "error= abs(np.array(data['Meses_cuenta'].mean() - media_meses)/media_meses)\n",
    "\n",
    "\n",
    "print('Con una confianza de 95% la media de tiempo activo por estratificado, estará en el intervalo',i1)\n",
    "print('Media calculada por estratificado crudo de la edad del cliente' ,media_meses)\n",
    "print('El porcentaje de error entre la media real y la media estimada con estratificado fue de', round(error*100,2),'%')"
   ]
  },
  {
   "cell_type": "markdown",
   "metadata": {},
   "source": [
    "### Conclusiones Nodo 4"
   ]
  },
  {
   "cell_type": "code",
   "execution_count": 85,
   "metadata": {},
   "outputs": [
    {
     "data": {
      "text/html": [
       "<div>\n",
       "<style scoped>\n",
       "    .dataframe tbody tr th:only-of-type {\n",
       "        vertical-align: middle;\n",
       "    }\n",
       "\n",
       "    .dataframe tbody tr th {\n",
       "        vertical-align: top;\n",
       "    }\n",
       "\n",
       "    .dataframe thead th {\n",
       "        text-align: right;\n",
       "    }\n",
       "</style>\n",
       "<table border=\"1\" class=\"dataframe\">\n",
       "  <thead>\n",
       "    <tr style=\"text-align: right;\">\n",
       "      <th></th>\n",
       "      <th>%</th>\n",
       "    </tr>\n",
       "  </thead>\n",
       "  <tbody>\n",
       "    <tr>\n",
       "      <th>Error KDE Crudo</th>\n",
       "      <td>0.03</td>\n",
       "    </tr>\n",
       "    <tr>\n",
       "      <th>Error Dgamma Crudo</th>\n",
       "      <td>0.08</td>\n",
       "    </tr>\n",
       "    <tr>\n",
       "      <th>Error Dgamma Estratificado</th>\n",
       "      <td>0.6</td>\n",
       "    </tr>\n",
       "  </tbody>\n",
       "</table>\n",
       "</div>"
      ],
      "text/plain": [
       "                               %\n",
       "Error KDE Crudo             0.03\n",
       "Error Dgamma Crudo          0.08\n",
       "Error Dgamma Estratificado   0.6"
      ]
     },
     "execution_count": 85,
     "metadata": {},
     "output_type": "execute_result"
    }
   ],
   "source": [
    "i=['%']\n",
    "df = pd.DataFrame(index=i, columns = ['Error KDE Crudo','Error Dgamma Crudo','Error Dgamma Estratificado'])\n",
    "df.loc[i,'Error KDE Crudo'] = 0.03\n",
    "df.loc[i,'Error Dgamma Crudo']= 0.08\n",
    "df.loc[i,'Error Dgamma Estratificado'] = 0.6\n",
    "df.T"
   ]
  },
  {
   "cell_type": "markdown",
   "metadata": {},
   "source": [
    "Los datos del tiempo activo de la tarjeta de crédito presentaban una distribución mucho más amigable con las simulaciones, muy similar a una distribución normal, sin embargo con un mejor ajuste a una distribución **Dgamma** después de algunas pruebas, tomando en cuenta el error que se obtuvo, la mejor forma de simulación fue por KDE por el método de Montercalo Crudo con un mínimo error de 0.03%.  \n",
    "Al considerar los resultamos del método antes mencionado, se concluye que el cliente promedio de la institución bancaria analizada posee una tarjeta de crédito por un tiempo de 2 años y 10 meses. Lo anterior afirma que si bien nuestra hipótesis se asemeja a los datos reales, existe un error de 2 meses.\n",
    "\n",
    "#### Hipótesis inicial\n",
    "\n",
    ">   -  Los clientes no perduran con su tarjeta de crédito más de 3 años. "
   ]
  },
  {
   "cell_type": "markdown",
   "metadata": {},
   "source": [
    "## Conclusiones finales"
   ]
  },
  {
   "cell_type": "markdown",
   "metadata": {},
   "source": [
    "Considerando que se tiene un límite de crédito de 8,987 dlls y el objetivo del banco es captar más activos y un ejemplo de estos son los créditos ya que es algo que producirá beneficios en un futuro (siendo los intereses un ingreso más) y sumado a esto se tienen 64,3177 transacciones al año. Se puede decir que el banco tendrá una baja de efectivo de al rededor de 5,780'231,699 dlls bajo el supuesto de que la institución bancaria está cobrando una tasa de interés TIIE+1% que sería igual a 5.99% según https://www.banxico.org.mx/, Así como tambien se tiene el supuesto de que el 60% de los clientes pagan intereses y el 40% restante paga su tarjeta antes de su fecha de vencimiento. Entonces se tiene que el banco tendrá un ingreso de 5,987'973,226.26 dlls con una ganancia por intereses de 207'741,527.26 dlls.\n",
    "\n",
    "Se obtuvo como resultado también que la edad media de los clientes es de 46 años con 35.9 meses activos en el banco, es decir al rededor de 2 años y 10 meses. Si se quisiera tener un aumento en clientes, la recomendación a la institución es ofrecer tarjetas de crédito a personas con un rango de edad de entre 44 y 46 años con un trabajo fijo. así como tambien otra recomendación que se ofrece al banco es centrarse en mantener como clientes a personas con edad mayor al promedio que son las que suelen hacer cancelaciones de cuentas."
   ]
  }
 ],
 "metadata": {
  "kernelspec": {
   "display_name": "Python 3",
   "language": "python",
   "name": "python3"
  },
  "language_info": {
   "codemirror_mode": {
    "name": "ipython",
    "version": 3
   },
   "file_extension": ".py",
   "mimetype": "text/x-python",
   "name": "python",
   "nbconvert_exporter": "python",
   "pygments_lexer": "ipython3",
   "version": "3.8.3"
  }
 },
 "nbformat": 4,
 "nbformat_minor": 2
}
